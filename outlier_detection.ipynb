{
 "cells": [
  {
   "cell_type": "code",
   "execution_count": 1,
   "id": "c2fd7b3a-4d99-443d-b34a-00e8c20343a8",
   "metadata": {},
   "outputs": [],
   "source": [
    "import numpy as np\n",
    "import pandas as pd\n",
    "import matplotlib.pyplot as plt\n",
    "import seaborn as sns"
   ]
  },
  {
   "cell_type": "code",
   "execution_count": 2,
   "id": "2f6a58d0-00d7-4cae-9691-66ba50d95b1c",
   "metadata": {},
   "outputs": [],
   "source": [
    "pd.set_option('display.max_columns',None)"
   ]
  },
  {
   "cell_type": "code",
   "execution_count": 3,
   "id": "cfd12558-8a85-4351-a445-b95df1ae07db",
   "metadata": {},
   "outputs": [],
   "source": [
    "df = pd.read_csv('properties_cleaned - GitHub.csv').drop_duplicates()"
   ]
  },
  {
   "cell_type": "code",
   "execution_count": 4,
   "id": "977e41ad-2279-492a-aaa4-510f3c365660",
   "metadata": {},
   "outputs": [
    {
     "data": {
      "text/html": [
       "<div>\n",
       "<style scoped>\n",
       "    .dataframe tbody tr th:only-of-type {\n",
       "        vertical-align: middle;\n",
       "    }\n",
       "\n",
       "    .dataframe tbody tr th {\n",
       "        vertical-align: top;\n",
       "    }\n",
       "\n",
       "    .dataframe thead th {\n",
       "        text-align: right;\n",
       "    }\n",
       "</style>\n",
       "<table border=\"1\" class=\"dataframe\">\n",
       "  <thead>\n",
       "    <tr style=\"text-align: right;\">\n",
       "      <th></th>\n",
       "      <th>property_type</th>\n",
       "      <th>society</th>\n",
       "      <th>sector</th>\n",
       "      <th>price</th>\n",
       "      <th>price_per_sqft</th>\n",
       "      <th>area</th>\n",
       "      <th>areaWithType</th>\n",
       "      <th>bedRoom</th>\n",
       "      <th>bathroom</th>\n",
       "      <th>balcony</th>\n",
       "      <th>floorNum</th>\n",
       "      <th>facing</th>\n",
       "      <th>agePossession</th>\n",
       "      <th>super_built_up_area</th>\n",
       "      <th>built_up_area</th>\n",
       "      <th>carpet_area</th>\n",
       "      <th>study room</th>\n",
       "      <th>servant room</th>\n",
       "      <th>store room</th>\n",
       "      <th>pooja room</th>\n",
       "      <th>others</th>\n",
       "      <th>furnishing_type</th>\n",
       "      <th>luxury_score</th>\n",
       "    </tr>\n",
       "  </thead>\n",
       "  <tbody>\n",
       "    <tr>\n",
       "      <th>0</th>\n",
       "      <td>flat</td>\n",
       "      <td>signature global park 4</td>\n",
       "      <td>sector 36</td>\n",
       "      <td>0.82</td>\n",
       "      <td>7585.0</td>\n",
       "      <td>1081.0</td>\n",
       "      <td>Super Built up area 1081(100.43 sq.m.)Carpet a...</td>\n",
       "      <td>3</td>\n",
       "      <td>2</td>\n",
       "      <td>2</td>\n",
       "      <td>2.0</td>\n",
       "      <td>NaN</td>\n",
       "      <td>New Property</td>\n",
       "      <td>1081.0</td>\n",
       "      <td>NaN</td>\n",
       "      <td>650.0</td>\n",
       "      <td>0</td>\n",
       "      <td>0</td>\n",
       "      <td>0</td>\n",
       "      <td>0</td>\n",
       "      <td>0</td>\n",
       "      <td>0</td>\n",
       "      <td>8</td>\n",
       "    </tr>\n",
       "    <tr>\n",
       "      <th>1</th>\n",
       "      <td>flat</td>\n",
       "      <td>smart world gems</td>\n",
       "      <td>sector 89</td>\n",
       "      <td>0.95</td>\n",
       "      <td>8600.0</td>\n",
       "      <td>1105.0</td>\n",
       "      <td>Carpet area: 1103 (102.47 sq.m.)</td>\n",
       "      <td>2</td>\n",
       "      <td>2</td>\n",
       "      <td>2</td>\n",
       "      <td>4.0</td>\n",
       "      <td>NaN</td>\n",
       "      <td>New Property</td>\n",
       "      <td>NaN</td>\n",
       "      <td>NaN</td>\n",
       "      <td>1103.0</td>\n",
       "      <td>1</td>\n",
       "      <td>1</td>\n",
       "      <td>0</td>\n",
       "      <td>0</td>\n",
       "      <td>0</td>\n",
       "      <td>0</td>\n",
       "      <td>38</td>\n",
       "    </tr>\n",
       "    <tr>\n",
       "      <th>2</th>\n",
       "      <td>flat</td>\n",
       "      <td>pyramid elite</td>\n",
       "      <td>sector 86</td>\n",
       "      <td>0.46</td>\n",
       "      <td>79.0</td>\n",
       "      <td>58228.0</td>\n",
       "      <td>Carpet area: 58141 (5401.48 sq.m.)</td>\n",
       "      <td>2</td>\n",
       "      <td>2</td>\n",
       "      <td>1</td>\n",
       "      <td>0.0</td>\n",
       "      <td>NaN</td>\n",
       "      <td>Under Construction</td>\n",
       "      <td>NaN</td>\n",
       "      <td>NaN</td>\n",
       "      <td>58141.0</td>\n",
       "      <td>0</td>\n",
       "      <td>0</td>\n",
       "      <td>0</td>\n",
       "      <td>0</td>\n",
       "      <td>0</td>\n",
       "      <td>0</td>\n",
       "      <td>15</td>\n",
       "    </tr>\n",
       "    <tr>\n",
       "      <th>3</th>\n",
       "      <td>flat</td>\n",
       "      <td>breez global hill view</td>\n",
       "      <td>sohna road</td>\n",
       "      <td>0.32</td>\n",
       "      <td>5470.0</td>\n",
       "      <td>585.0</td>\n",
       "      <td>Built Up area: 1000 (92.9 sq.m.)Carpet area: 5...</td>\n",
       "      <td>2</td>\n",
       "      <td>2</td>\n",
       "      <td>1</td>\n",
       "      <td>17.0</td>\n",
       "      <td>NaN</td>\n",
       "      <td>New Property</td>\n",
       "      <td>NaN</td>\n",
       "      <td>1000.0</td>\n",
       "      <td>585.0</td>\n",
       "      <td>0</td>\n",
       "      <td>0</td>\n",
       "      <td>0</td>\n",
       "      <td>0</td>\n",
       "      <td>0</td>\n",
       "      <td>0</td>\n",
       "      <td>49</td>\n",
       "    </tr>\n",
       "    <tr>\n",
       "      <th>4</th>\n",
       "      <td>flat</td>\n",
       "      <td>bestech park view sanskruti</td>\n",
       "      <td>sector 92</td>\n",
       "      <td>1.60</td>\n",
       "      <td>8020.0</td>\n",
       "      <td>1995.0</td>\n",
       "      <td>Super Built up area 1995(185.34 sq.m.)Built Up...</td>\n",
       "      <td>3</td>\n",
       "      <td>4</td>\n",
       "      <td>3+</td>\n",
       "      <td>10.0</td>\n",
       "      <td>North-West</td>\n",
       "      <td>Relatively New</td>\n",
       "      <td>1995.0</td>\n",
       "      <td>1615.0</td>\n",
       "      <td>1476.0</td>\n",
       "      <td>0</td>\n",
       "      <td>1</td>\n",
       "      <td>0</td>\n",
       "      <td>0</td>\n",
       "      <td>1</td>\n",
       "      <td>1</td>\n",
       "      <td>174</td>\n",
       "    </tr>\n",
       "  </tbody>\n",
       "</table>\n",
       "</div>"
      ],
      "text/plain": [
       "  property_type                      society      sector  price  \\\n",
       "0          flat      signature global park 4   sector 36   0.82   \n",
       "1          flat             smart world gems   sector 89   0.95   \n",
       "2          flat                pyramid elite   sector 86   0.46   \n",
       "3          flat       breez global hill view  sohna road   0.32   \n",
       "4          flat  bestech park view sanskruti   sector 92   1.60   \n",
       "\n",
       "   price_per_sqft     area                                       areaWithType  \\\n",
       "0          7585.0   1081.0  Super Built up area 1081(100.43 sq.m.)Carpet a...   \n",
       "1          8600.0   1105.0                   Carpet area: 1103 (102.47 sq.m.)   \n",
       "2            79.0  58228.0                 Carpet area: 58141 (5401.48 sq.m.)   \n",
       "3          5470.0    585.0  Built Up area: 1000 (92.9 sq.m.)Carpet area: 5...   \n",
       "4          8020.0   1995.0  Super Built up area 1995(185.34 sq.m.)Built Up...   \n",
       "\n",
       "   bedRoom  bathroom balcony  floorNum      facing       agePossession  \\\n",
       "0        3         2       2       2.0         NaN        New Property   \n",
       "1        2         2       2       4.0         NaN        New Property   \n",
       "2        2         2       1       0.0         NaN  Under Construction   \n",
       "3        2         2       1      17.0         NaN        New Property   \n",
       "4        3         4      3+      10.0  North-West      Relatively New   \n",
       "\n",
       "   super_built_up_area  built_up_area  carpet_area  study room  servant room  \\\n",
       "0               1081.0            NaN        650.0           0             0   \n",
       "1                  NaN            NaN       1103.0           1             1   \n",
       "2                  NaN            NaN      58141.0           0             0   \n",
       "3                  NaN         1000.0        585.0           0             0   \n",
       "4               1995.0         1615.0       1476.0           0             1   \n",
       "\n",
       "   store room  pooja room  others  furnishing_type  luxury_score  \n",
       "0           0           0       0                0             8  \n",
       "1           0           0       0                0            38  \n",
       "2           0           0       0                0            15  \n",
       "3           0           0       0                0            49  \n",
       "4           0           0       1                1           174  "
      ]
     },
     "execution_count": 4,
     "metadata": {},
     "output_type": "execute_result"
    }
   ],
   "source": [
    "df.head()"
   ]
  },
  {
   "cell_type": "code",
   "execution_count": 8,
   "id": "f1fb0ff8-cc9d-4b2d-9a0d-3070c38600e2",
   "metadata": {},
   "outputs": [
    {
     "data": {
      "text/plain": [
       "<Axes: xlabel='price'>"
      ]
     },
     "execution_count": 8,
     "metadata": {},
     "output_type": "execute_result"
    },
    {
     "data": {
      "image/png": "[encoded data removed]",
      "text/plain": [
       "<Figure size 600x400 with 1 Axes>"
      ]
     },
     "metadata": {},
     "output_type": "display_data"
    }
   ],
   "source": [
    "plt.figure(figsize = (6,4))\n",
    "sns.boxplot(df['price'],orient='h')"
   ]
  },
  {
   "cell_type": "code",
   "execution_count": 10,
   "id": "ae533d21-3a6b-4aaa-bcd7-3571a65f9f90",
   "metadata": {},
   "outputs": [],
   "source": [
    "Q1 = df['price'].quantile(0.25)\n",
    "Q3 = df['price'].quantile(0.75)\n",
    "IQR = Q3-Q1\n",
    "lower = Q1 - (1.5*IQR)\n",
    "upper = Q3 + (1.5*IQR)\n",
    "\n",
    "outliers = df[(df['price']>upper) | (df['price']<lower)]"
   ]
  },
  {
   "cell_type": "code",
   "execution_count": 11,
   "id": "65ecef0c-5f42-4dd2-bc86-e5b02998d445",
   "metadata": {},
   "outputs": [
    {
     "data": {
      "text/plain": [
       "425"
      ]
     },
     "execution_count": 11,
     "metadata": {},
     "output_type": "execute_result"
    }
   ],
   "source": [
    "outliers.shape[0]"
   ]
  },
  {
   "cell_type": "code",
   "execution_count": 13,
   "id": "24e87f4d-bb3e-4dff-841b-77989a2963e7",
   "metadata": {},
   "outputs": [
    {
     "data": {
      "text/plain": [
       "count    425.000000\n",
       "mean       9.235624\n",
       "std        4.065259\n",
       "min        5.460000\n",
       "25%        6.460000\n",
       "50%        8.000000\n",
       "75%       10.750000\n",
       "max       31.500000\n",
       "Name: price, dtype: float64"
      ]
     },
     "execution_count": 13,
     "metadata": {},
     "output_type": "execute_result"
    }
   ],
   "source": [
    "outliers['price'].describe()"
   ]
  },
  {
   "cell_type": "code",
   "execution_count": 17,
   "id": "e57b9525-2360-4630-aa8c-20160a412b6b",
   "metadata": {},
   "outputs": [
    {
     "name": "stderr",
     "output_type": "stream",
     "text": [
      "C:\\Users\\debas\\AppData\\Local\\Temp\\ipykernel_7108\\540123483.py:2: UserWarning: \n",
      "\n",
      "`distplot` is a deprecated function and will be removed in seaborn v0.14.0.\n",
      "\n",
      "Please adapt your code to use either `displot` (a figure-level function with\n",
      "similar flexibility) or `histplot` (an axes-level function for histograms).\n",
      "\n",
      "For a guide to updating your code to use the new functions, please see\n",
      "https://gist.github.com/mwaskom/de44147ed2974457ad6372750bbe5751\n",
      "\n",
      "  sns.distplot(df['price_per_sqft'])\n"
     ]
    },
    {
     "data": {
      "image/png": "[encoded data removed]",
      "text/plain": [
       "<Figure size 500x300 with 1 Axes>"
      ]
     },
     "metadata": {},
     "output_type": "display_data"
    }
   ],
   "source": [
    "plt.figure(figsize=(5,3))\n",
    "sns.distplot(df['price_per_sqft'])\n",
    "plt.show()"
   ]
  },
  {
   "cell_type": "code",
   "execution_count": 19,
   "id": "6fc898a3-4d40-4f78-a70a-3107dde989b8",
   "metadata": {},
   "outputs": [
    {
     "data": {
      "text/plain": [
       "<Axes: xlabel='price_per_sqft'>"
      ]
     },
     "execution_count": 19,
     "metadata": {},
     "output_type": "execute_result"
    },
    {
     "data": {
      "image/png": "[encoded data removed]",
      "text/plain": [
       "<Figure size 500x300 with 1 Axes>"
      ]
     },
     "metadata": {},
     "output_type": "display_data"
    }
   ],
   "source": [
    "plt.figure(figsize=(5,3))\n",
    "sns.boxplot(df['price_per_sqft'],orient='h')"
   ]
  },
  {
   "cell_type": "code",
   "execution_count": 20,
   "id": "9206a132-de99-46a5-a355-6bc5126d24dd",
   "metadata": {},
   "outputs": [
    {
     "data": {
      "text/plain": [
       "count       354.000000\n",
       "mean      52592.612994\n",
       "std       61150.458507\n",
       "min       24489.000000\n",
       "25%       28208.250000\n",
       "50%       33368.500000\n",
       "75%       41982.250000\n",
       "max      600000.000000\n",
       "Name: price_per_sqft, dtype: float64"
      ]
     },
     "execution_count": 20,
     "metadata": {},
     "output_type": "execute_result"
    }
   ],
   "source": [
    "Q1 = df['price_per_sqft'].quantile(0.25)\n",
    "Q3 = df['price_per_sqft'].quantile(0.75)\n",
    "IQR = Q3-Q1\n",
    "lower = Q1 - (1.5*IQR)\n",
    "upper = Q3 + (1.5*IQR)\n",
    "\n",
    "P_P_s_outliers = df[(df['price_per_sqft']>upper) | (df['price_per_sqft']<lower)]\n",
    "P_P_s_outliers['price_per_sqft'].describe()"
   ]
  },
  {
   "cell_type": "code",
   "execution_count": 25,
   "id": "8bfa2801-0402-4ac1-ac2c-1aba48e47ebd",
   "metadata": {},
   "outputs": [
    {
     "name": "stderr",
     "output_type": "stream",
     "text": [
      "C:\\Users\\debas\\AppData\\Local\\Temp\\ipykernel_7108\\102150181.py:1: SettingWithCopyWarning: \n",
      "A value is trying to be set on a copy of a slice from a DataFrame.\n",
      "Try using .loc[row_indexer,col_indexer] = value instead\n",
      "\n",
      "See the caveats in the documentation: https://pandas.pydata.org/pandas-docs/stable/user_guide/indexing.html#returning-a-view-versus-a-copy\n",
      "  P_P_s_outliers['area'] = P_P_s_outliers['area'].apply(lambda x:x*9 if x<1000 else x)\n"
     ]
    }
   ],
   "source": [
    "P_P_s_outliers['area'] = P_P_s_outliers['area'].apply(lambda x:x*9 if x<1000 else x)"
   ]
  },
  {
   "cell_type": "code",
   "execution_count": 26,
   "id": "87304e28-ac27-4da4-8564-cbbd3313f3b0",
   "metadata": {},
   "outputs": [
    {
     "name": "stderr",
     "output_type": "stream",
     "text": [
      "C:\\Users\\debas\\AppData\\Local\\Temp\\ipykernel_7108\\2942512233.py:1: SettingWithCopyWarning: \n",
      "A value is trying to be set on a copy of a slice from a DataFrame.\n",
      "Try using .loc[row_indexer,col_indexer] = value instead\n",
      "\n",
      "See the caveats in the documentation: https://pandas.pydata.org/pandas-docs/stable/user_guide/indexing.html#returning-a-view-versus-a-copy\n",
      "  P_P_s_outliers['price_per_sqft'] = round((P_P_s_outliers['price'])*10000000/P_P_s_outliers['area'])\n"
     ]
    }
   ],
   "source": [
    "P_P_s_outliers['price_per_sqft'] = round((P_P_s_outliers['price'])*10000000/P_P_s_outliers['area'])"
   ]
  },
  {
   "cell_type": "code",
   "execution_count": 27,
   "id": "c3cb5e7d-aca8-4a7a-8592-b249e730cf90",
   "metadata": {},
   "outputs": [
    {
     "data": {
      "text/plain": [
       "count      354.000000\n",
       "mean     28855.570621\n",
       "std      13182.038276\n",
       "min        514.000000\n",
       "25%      25546.250000\n",
       "50%      29788.500000\n",
       "75%      35549.500000\n",
       "max      82540.000000\n",
       "Name: price_per_sqft, dtype: float64"
      ]
     },
     "execution_count": 27,
     "metadata": {},
     "output_type": "execute_result"
    }
   ],
   "source": [
    "P_P_s_outliers['price_per_sqft'].describe()"
   ]
  },
  {
   "cell_type": "code",
   "execution_count": 29,
   "id": "65ba7271-5841-4089-8324-5737352f58cf",
   "metadata": {},
   "outputs": [],
   "source": [
    "df.update(P_P_s_outliers)"
   ]
  },
  {
   "cell_type": "code",
   "execution_count": 31,
   "id": "9df645d8-511a-458a-8237-51dff86cc2e6",
   "metadata": {},
   "outputs": [
    {
     "name": "stderr",
     "output_type": "stream",
     "text": [
      "C:\\Users\\debas\\AppData\\Local\\Temp\\ipykernel_7108\\2653482184.py:2: UserWarning: \n",
      "\n",
      "`distplot` is a deprecated function and will be removed in seaborn v0.14.0.\n",
      "\n",
      "Please adapt your code to use either `displot` (a figure-level function with\n",
      "similar flexibility) or `histplot` (an axes-level function for histograms).\n",
      "\n",
      "For a guide to updating your code to use the new functions, please see\n",
      "https://gist.github.com/mwaskom/de44147ed2974457ad6372750bbe5751\n",
      "\n",
      "  sns.distplot(df['price_per_sqft'])\n"
     ]
    },
    {
     "data": {
      "text/plain": [
       "<Axes: xlabel='price_per_sqft', ylabel='Density'>"
      ]
     },
     "execution_count": 31,
     "metadata": {},
     "output_type": "execute_result"
    },
    {
     "data": {
      "image/png": "[encoded data removed]",
      "text/plain": [
       "<Figure size 600x400 with 1 Axes>"
      ]
     },
     "metadata": {},
     "output_type": "display_data"
    }
   ],
   "source": [
    "plt.figure(figsize=(6,4))\n",
    "sns.distplot(df['price_per_sqft'])"
   ]
  },
  {
   "cell_type": "code",
   "execution_count": 32,
   "id": "1e66ed51-328c-4e0f-b725-411b457ddf94",
   "metadata": {},
   "outputs": [
    {
     "data": {
      "text/plain": [
       "<Axes: xlabel='price_per_sqft'>"
      ]
     },
     "execution_count": 32,
     "metadata": {},
     "output_type": "execute_result"
    },
    {
     "data": {
      "image/png": "[encoded data removed]",
      "text/plain": [
       "<Figure size 500x300 with 1 Axes>"
      ]
     },
     "metadata": {},
     "output_type": "display_data"
    }
   ],
   "source": [
    "plt.figure(figsize=(5,3))\n",
    "sns.boxplot(df['price_per_sqft'],orient='h')"
   ]
  },
  {
   "cell_type": "code",
   "execution_count": 38,
   "id": "b398276a-4539-4742-aef7-4b9a60c23ed1",
   "metadata": {},
   "outputs": [],
   "source": [
    "df = df[df['price_per_sqft']<=50000]"
   ]
  },
  {
   "cell_type": "code",
   "execution_count": 39,
   "id": "46e10265-c7ae-4e17-a042-7bd19622d3f5",
   "metadata": {},
   "outputs": [
    {
     "data": {
      "text/plain": [
       "<Axes: xlabel='price_per_sqft'>"
      ]
     },
     "execution_count": 39,
     "metadata": {},
     "output_type": "execute_result"
    },
    {
     "data": {
      "image/png": "[encoded data removed]",
      "text/plain": [
       "<Figure size 500x300 with 1 Axes>"
      ]
     },
     "metadata": {},
     "output_type": "display_data"
    }
   ],
   "source": [
    "plt.figure(figsize=(5,3))\n",
    "sns.boxplot(df['price_per_sqft'],orient='h')"
   ]
  },
  {
   "cell_type": "code",
   "execution_count": 41,
   "id": "3048c200-08a9-42a4-a89e-eed1d5083f4a",
   "metadata": {},
   "outputs": [
    {
     "name": "stderr",
     "output_type": "stream",
     "text": [
      "C:\\Users\\debas\\AppData\\Local\\Temp\\ipykernel_7108\\3060776769.py:2: UserWarning: \n",
      "\n",
      "`distplot` is a deprecated function and will be removed in seaborn v0.14.0.\n",
      "\n",
      "Please adapt your code to use either `displot` (a figure-level function with\n",
      "similar flexibility) or `histplot` (an axes-level function for histograms).\n",
      "\n",
      "For a guide to updating your code to use the new functions, please see\n",
      "https://gist.github.com/mwaskom/de44147ed2974457ad6372750bbe5751\n",
      "\n",
      "  sns.distplot(df['area'])\n"
     ]
    },
    {
     "data": {
      "text/plain": [
       "<Axes: xlabel='area', ylabel='Density'>"
      ]
     },
     "execution_count": 41,
     "metadata": {},
     "output_type": "execute_result"
    },
    {
     "data": {
      "image/png": "[encoded data removed]",
      "text/plain": [
       "<Figure size 600x300 with 1 Axes>"
      ]
     },
     "metadata": {},
     "output_type": "display_data"
    }
   ],
   "source": [
    "plt.figure(figsize=(6,3))\n",
    "sns.distplot(df['area'])"
   ]
  },
  {
   "cell_type": "code",
   "execution_count": 43,
   "id": "c56db687-6f16-47c9-893c-bea8de8e53a3",
   "metadata": {},
   "outputs": [
    {
     "data": {
      "text/plain": [
       "<Axes: xlabel='area'>"
      ]
     },
     "execution_count": 43,
     "metadata": {},
     "output_type": "execute_result"
    },
    {
     "data": {
      "image/png": "[encoded data removed]",
      "text/plain": [
       "<Figure size 500x300 with 1 Axes>"
      ]
     },
     "metadata": {},
     "output_type": "display_data"
    }
   ],
   "source": [
    "plt.figure(figsize=(5,3))\n",
    "sns.boxplot(df['area'],orient='h')"
   ]
  },
  {
   "cell_type": "code",
   "execution_count": 44,
   "id": "78300d36-ed4e-4246-8b6c-df6984ffcebb",
   "metadata": {},
   "outputs": [
    {
     "data": {
      "text/plain": [
       "count      3647.000000\n",
       "mean       2967.406636\n",
       "std       23208.150394\n",
       "min         145.000000\n",
       "25%        1272.500000\n",
       "50%        1758.000000\n",
       "75%        2355.000000\n",
       "max      875000.000000\n",
       "Name: area, dtype: float64"
      ]
     },
     "execution_count": 44,
     "metadata": {},
     "output_type": "execute_result"
    }
   ],
   "source": [
    "df['area'].describe()"
   ]
  },
  {
   "cell_type": "code",
   "execution_count": 47,
   "id": "5c88a21e-7de7-4145-b8bd-59d7a65352be",
   "metadata": {},
   "outputs": [
    {
     "data": {
      "text/plain": [
       "5"
      ]
     },
     "execution_count": 47,
     "metadata": {},
     "output_type": "execute_result"
    }
   ],
   "source": [
    "df[df['area']>100000].shape[0]"
   ]
  },
  {
   "cell_type": "code",
   "execution_count": 49,
   "id": "7b54edac-43f9-4a05-ad80-1b28a99786ff",
   "metadata": {},
   "outputs": [],
   "source": [
    "df = df[df['area']<100000]"
   ]
  },
  {
   "cell_type": "code",
   "execution_count": 50,
   "id": "8f041a90-5da4-4f82-8c3f-2234d21c8e89",
   "metadata": {},
   "outputs": [
    {
     "data": {
      "text/plain": [
       "<Axes: xlabel='area'>"
      ]
     },
     "execution_count": 50,
     "metadata": {},
     "output_type": "execute_result"
    },
    {
     "data": {
      "image/png": "[encoded data removed]",
      "text/plain": [
       "<Figure size 500x300 with 1 Axes>"
      ]
     },
     "metadata": {},
     "output_type": "display_data"
    }
   ],
   "source": [
    "plt.figure(figsize=(5,3))\n",
    "sns.boxplot(df['area'],orient='h')"
   ]
  },
  {
   "cell_type": "code",
   "execution_count": 55,
   "id": "024e3813-1f33-4dbe-99a9-04d2ec46e3c7",
   "metadata": {},
   "outputs": [
    {
     "data": {
      "text/html": [
       "<div>\n",
       "<style scoped>\n",
       "    .dataframe tbody tr th:only-of-type {\n",
       "        vertical-align: middle;\n",
       "    }\n",
       "\n",
       "    .dataframe tbody tr th {\n",
       "        vertical-align: top;\n",
       "    }\n",
       "\n",
       "    .dataframe thead th {\n",
       "        text-align: right;\n",
       "    }\n",
       "</style>\n",
       "<table border=\"1\" class=\"dataframe\">\n",
       "  <thead>\n",
       "    <tr style=\"text-align: right;\">\n",
       "      <th></th>\n",
       "      <th>property_type</th>\n",
       "      <th>society</th>\n",
       "      <th>sector</th>\n",
       "      <th>price</th>\n",
       "      <th>price_per_sqft</th>\n",
       "      <th>area</th>\n",
       "      <th>areaWithType</th>\n",
       "      <th>bedRoom</th>\n",
       "      <th>bathroom</th>\n",
       "      <th>balcony</th>\n",
       "      <th>floorNum</th>\n",
       "      <th>facing</th>\n",
       "      <th>agePossession</th>\n",
       "      <th>super_built_up_area</th>\n",
       "      <th>built_up_area</th>\n",
       "      <th>carpet_area</th>\n",
       "      <th>study room</th>\n",
       "      <th>servant room</th>\n",
       "      <th>store room</th>\n",
       "      <th>pooja room</th>\n",
       "      <th>others</th>\n",
       "      <th>furnishing_type</th>\n",
       "      <th>luxury_score</th>\n",
       "    </tr>\n",
       "  </thead>\n",
       "  <tbody>\n",
       "    <tr>\n",
       "      <th>818</th>\n",
       "      <td>house</td>\n",
       "      <td>independent</td>\n",
       "      <td>sector 26</td>\n",
       "      <td>18.40</td>\n",
       "      <td>1859.0</td>\n",
       "      <td>98978.0</td>\n",
       "      <td>Plot area 502(419.74 sq.m.)Carpet area: 11000 ...</td>\n",
       "      <td>6</td>\n",
       "      <td>8</td>\n",
       "      <td>3+</td>\n",
       "      <td>4.0</td>\n",
       "      <td>South</td>\n",
       "      <td>Relatively New</td>\n",
       "      <td>NaN</td>\n",
       "      <td>NaN</td>\n",
       "      <td>11000.00</td>\n",
       "      <td>0</td>\n",
       "      <td>1</td>\n",
       "      <td>1</td>\n",
       "      <td>1</td>\n",
       "      <td>0</td>\n",
       "      <td>1</td>\n",
       "      <td>60</td>\n",
       "    </tr>\n",
       "    <tr>\n",
       "      <th>48</th>\n",
       "      <td>house</td>\n",
       "      <td>ganpati heights apartment</td>\n",
       "      <td>sector 13</td>\n",
       "      <td>1.25</td>\n",
       "      <td>151.0</td>\n",
       "      <td>82781.0</td>\n",
       "      <td>Plot area 115(7692.86 sq.m.)</td>\n",
       "      <td>10</td>\n",
       "      <td>6</td>\n",
       "      <td>2</td>\n",
       "      <td>3.0</td>\n",
       "      <td>South-East</td>\n",
       "      <td>Old Property</td>\n",
       "      <td>NaN</td>\n",
       "      <td>115.0</td>\n",
       "      <td>NaN</td>\n",
       "      <td>0</td>\n",
       "      <td>0</td>\n",
       "      <td>0</td>\n",
       "      <td>0</td>\n",
       "      <td>1</td>\n",
       "      <td>0</td>\n",
       "      <td>7</td>\n",
       "    </tr>\n",
       "    <tr>\n",
       "      <th>1123</th>\n",
       "      <td>flat</td>\n",
       "      <td>rof ananda</td>\n",
       "      <td>sector 95</td>\n",
       "      <td>0.38</td>\n",
       "      <td>58.0</td>\n",
       "      <td>65517.0</td>\n",
       "      <td>Carpet area: 64412 (5984.07 sq.m.)</td>\n",
       "      <td>3</td>\n",
       "      <td>2</td>\n",
       "      <td>1</td>\n",
       "      <td>12.0</td>\n",
       "      <td>North</td>\n",
       "      <td>Relatively New</td>\n",
       "      <td>NaN</td>\n",
       "      <td>NaN</td>\n",
       "      <td>64412.00</td>\n",
       "      <td>0</td>\n",
       "      <td>0</td>\n",
       "      <td>0</td>\n",
       "      <td>0</td>\n",
       "      <td>0</td>\n",
       "      <td>0</td>\n",
       "      <td>51</td>\n",
       "    </tr>\n",
       "    <tr>\n",
       "      <th>1796</th>\n",
       "      <td>flat</td>\n",
       "      <td>rof ananda</td>\n",
       "      <td>sector 95</td>\n",
       "      <td>0.38</td>\n",
       "      <td>58.0</td>\n",
       "      <td>65517.0</td>\n",
       "      <td>Carpet area: 64529 (5994.94 sq.m.)</td>\n",
       "      <td>2</td>\n",
       "      <td>2</td>\n",
       "      <td>2</td>\n",
       "      <td>10.0</td>\n",
       "      <td>East</td>\n",
       "      <td>New Property</td>\n",
       "      <td>NaN</td>\n",
       "      <td>NaN</td>\n",
       "      <td>64529.00</td>\n",
       "      <td>1</td>\n",
       "      <td>0</td>\n",
       "      <td>0</td>\n",
       "      <td>0</td>\n",
       "      <td>0</td>\n",
       "      <td>0</td>\n",
       "      <td>15</td>\n",
       "    </tr>\n",
       "    <tr>\n",
       "      <th>300</th>\n",
       "      <td>house</td>\n",
       "      <td>dlf city plot phase 4</td>\n",
       "      <td>sector 28</td>\n",
       "      <td>13.00</td>\n",
       "      <td>1992.0</td>\n",
       "      <td>65261.0</td>\n",
       "      <td>Carpet area: 7250 (6061.92 sq.m.)</td>\n",
       "      <td>10</td>\n",
       "      <td>10</td>\n",
       "      <td>3+</td>\n",
       "      <td>1.0</td>\n",
       "      <td>NaN</td>\n",
       "      <td>Undefined</td>\n",
       "      <td>NaN</td>\n",
       "      <td>NaN</td>\n",
       "      <td>7250.00</td>\n",
       "      <td>0</td>\n",
       "      <td>0</td>\n",
       "      <td>0</td>\n",
       "      <td>0</td>\n",
       "      <td>0</td>\n",
       "      <td>0</td>\n",
       "      <td>0</td>\n",
       "    </tr>\n",
       "    <tr>\n",
       "      <th>2</th>\n",
       "      <td>flat</td>\n",
       "      <td>pyramid elite</td>\n",
       "      <td>sector 86</td>\n",
       "      <td>0.46</td>\n",
       "      <td>79.0</td>\n",
       "      <td>58228.0</td>\n",
       "      <td>Carpet area: 58141 (5401.48 sq.m.)</td>\n",
       "      <td>2</td>\n",
       "      <td>2</td>\n",
       "      <td>1</td>\n",
       "      <td>0.0</td>\n",
       "      <td>NaN</td>\n",
       "      <td>Under Construction</td>\n",
       "      <td>NaN</td>\n",
       "      <td>NaN</td>\n",
       "      <td>58141.00</td>\n",
       "      <td>0</td>\n",
       "      <td>0</td>\n",
       "      <td>0</td>\n",
       "      <td>0</td>\n",
       "      <td>0</td>\n",
       "      <td>0</td>\n",
       "      <td>15</td>\n",
       "    </tr>\n",
       "    <tr>\n",
       "      <th>2356</th>\n",
       "      <td>flat</td>\n",
       "      <td>rof ananda</td>\n",
       "      <td>sector 95</td>\n",
       "      <td>0.33</td>\n",
       "      <td>60.0</td>\n",
       "      <td>55000.0</td>\n",
       "      <td>Carpet area: 54917 (5101.96 sq.m.)</td>\n",
       "      <td>2</td>\n",
       "      <td>2</td>\n",
       "      <td>1</td>\n",
       "      <td>13.0</td>\n",
       "      <td>South-West</td>\n",
       "      <td>Relatively New</td>\n",
       "      <td>NaN</td>\n",
       "      <td>NaN</td>\n",
       "      <td>54917.00</td>\n",
       "      <td>0</td>\n",
       "      <td>0</td>\n",
       "      <td>0</td>\n",
       "      <td>0</td>\n",
       "      <td>0</td>\n",
       "      <td>0</td>\n",
       "      <td>37</td>\n",
       "    </tr>\n",
       "    <tr>\n",
       "      <th>115</th>\n",
       "      <td>flat</td>\n",
       "      <td>signature the serenas</td>\n",
       "      <td>sohna road</td>\n",
       "      <td>0.28</td>\n",
       "      <td>57.0</td>\n",
       "      <td>49123.0</td>\n",
       "      <td>Carpet area: 48811 (4534.69 sq.m.)</td>\n",
       "      <td>1</td>\n",
       "      <td>1</td>\n",
       "      <td>2</td>\n",
       "      <td>1.0</td>\n",
       "      <td>North-West</td>\n",
       "      <td>Relatively New</td>\n",
       "      <td>NaN</td>\n",
       "      <td>NaN</td>\n",
       "      <td>48811.00</td>\n",
       "      <td>1</td>\n",
       "      <td>0</td>\n",
       "      <td>0</td>\n",
       "      <td>0</td>\n",
       "      <td>0</td>\n",
       "      <td>0</td>\n",
       "      <td>37</td>\n",
       "    </tr>\n",
       "    <tr>\n",
       "      <th>2666</th>\n",
       "      <td>house</td>\n",
       "      <td>independent</td>\n",
       "      <td>sector 25</td>\n",
       "      <td>7.30</td>\n",
       "      <td>1560.0</td>\n",
       "      <td>46795.0</td>\n",
       "      <td>Plot area 215(179.77 sq.m.)Built Up area: 5800...</td>\n",
       "      <td>9</td>\n",
       "      <td>9</td>\n",
       "      <td>2</td>\n",
       "      <td>3.0</td>\n",
       "      <td>North-West</td>\n",
       "      <td>Relatively New</td>\n",
       "      <td>NaN</td>\n",
       "      <td>5800.0</td>\n",
       "      <td>5200.00</td>\n",
       "      <td>0</td>\n",
       "      <td>1</td>\n",
       "      <td>1</td>\n",
       "      <td>0</td>\n",
       "      <td>0</td>\n",
       "      <td>1</td>\n",
       "      <td>109</td>\n",
       "    </tr>\n",
       "    <tr>\n",
       "      <th>3649</th>\n",
       "      <td>flat</td>\n",
       "      <td>ramsons kshitij</td>\n",
       "      <td>sector 95</td>\n",
       "      <td>0.24</td>\n",
       "      <td>53.0</td>\n",
       "      <td>45283.0</td>\n",
       "      <td>Carpet area: 45966 (4270.38 sq.m.)</td>\n",
       "      <td>2</td>\n",
       "      <td>2</td>\n",
       "      <td>1</td>\n",
       "      <td>10.0</td>\n",
       "      <td>North-West</td>\n",
       "      <td>Relatively New</td>\n",
       "      <td>NaN</td>\n",
       "      <td>NaN</td>\n",
       "      <td>45966.00</td>\n",
       "      <td>0</td>\n",
       "      <td>0</td>\n",
       "      <td>0</td>\n",
       "      <td>0</td>\n",
       "      <td>1</td>\n",
       "      <td>0</td>\n",
       "      <td>33</td>\n",
       "    </tr>\n",
       "    <tr>\n",
       "      <th>2503</th>\n",
       "      <td>flat</td>\n",
       "      <td>rof ananda</td>\n",
       "      <td>sector 95</td>\n",
       "      <td>0.21</td>\n",
       "      <td>61.0</td>\n",
       "      <td>34426.0</td>\n",
       "      <td>Carpet area: 34401 (3195.96 sq.m.)</td>\n",
       "      <td>1</td>\n",
       "      <td>1</td>\n",
       "      <td>1</td>\n",
       "      <td>13.0</td>\n",
       "      <td>North</td>\n",
       "      <td>Relatively New</td>\n",
       "      <td>NaN</td>\n",
       "      <td>NaN</td>\n",
       "      <td>34401.00</td>\n",
       "      <td>0</td>\n",
       "      <td>0</td>\n",
       "      <td>0</td>\n",
       "      <td>0</td>\n",
       "      <td>0</td>\n",
       "      <td>0</td>\n",
       "      <td>68</td>\n",
       "    </tr>\n",
       "    <tr>\n",
       "      <th>1358</th>\n",
       "      <td>house</td>\n",
       "      <td>independent</td>\n",
       "      <td>sector 57</td>\n",
       "      <td>6.25</td>\n",
       "      <td>2778.0</td>\n",
       "      <td>22498.0</td>\n",
       "      <td>Plot area 3100(2591.99 sq.m.)Built Up area: 26...</td>\n",
       "      <td>9</td>\n",
       "      <td>9</td>\n",
       "      <td>3+</td>\n",
       "      <td>3.0</td>\n",
       "      <td>North-East</td>\n",
       "      <td>New Property</td>\n",
       "      <td>NaN</td>\n",
       "      <td>2660.0</td>\n",
       "      <td>2500.00</td>\n",
       "      <td>0</td>\n",
       "      <td>1</td>\n",
       "      <td>0</td>\n",
       "      <td>0</td>\n",
       "      <td>0</td>\n",
       "      <td>1</td>\n",
       "      <td>61</td>\n",
       "    </tr>\n",
       "    <tr>\n",
       "      <th>3195</th>\n",
       "      <td>house</td>\n",
       "      <td>independent</td>\n",
       "      <td>sector 43</td>\n",
       "      <td>5.50</td>\n",
       "      <td>2716.0</td>\n",
       "      <td>20250.0</td>\n",
       "      <td>Plot area 215(179.77 sq.m.)Built Up area: 2850...</td>\n",
       "      <td>8</td>\n",
       "      <td>7</td>\n",
       "      <td>3+</td>\n",
       "      <td>3.0</td>\n",
       "      <td>East</td>\n",
       "      <td>Moderately Old</td>\n",
       "      <td>NaN</td>\n",
       "      <td>2850.0</td>\n",
       "      <td>2250.00</td>\n",
       "      <td>1</td>\n",
       "      <td>1</td>\n",
       "      <td>0</td>\n",
       "      <td>1</td>\n",
       "      <td>1</td>\n",
       "      <td>1</td>\n",
       "      <td>123</td>\n",
       "    </tr>\n",
       "    <tr>\n",
       "      <th>2131</th>\n",
       "      <td>flat</td>\n",
       "      <td>godrej air</td>\n",
       "      <td>sector 85</td>\n",
       "      <td>2.50</td>\n",
       "      <td>1379.0</td>\n",
       "      <td>18129.0</td>\n",
       "      <td>Carpet area: 18122 (1683.59 sq.m.)</td>\n",
       "      <td>4</td>\n",
       "      <td>5</td>\n",
       "      <td>3+</td>\n",
       "      <td>16.0</td>\n",
       "      <td>North-East</td>\n",
       "      <td>Under Construction</td>\n",
       "      <td>NaN</td>\n",
       "      <td>NaN</td>\n",
       "      <td>18122.00</td>\n",
       "      <td>1</td>\n",
       "      <td>0</td>\n",
       "      <td>0</td>\n",
       "      <td>1</td>\n",
       "      <td>1</td>\n",
       "      <td>1</td>\n",
       "      <td>44</td>\n",
       "    </tr>\n",
       "    <tr>\n",
       "      <th>3088</th>\n",
       "      <td>house</td>\n",
       "      <td>unitech aspen greens</td>\n",
       "      <td>sector 50</td>\n",
       "      <td>6.95</td>\n",
       "      <td>4490.0</td>\n",
       "      <td>15479.0</td>\n",
       "      <td>Plot area 240(200.67 sq.m.)Built Up area: 2160...</td>\n",
       "      <td>3</td>\n",
       "      <td>3</td>\n",
       "      <td>1</td>\n",
       "      <td>2.0</td>\n",
       "      <td>North-East</td>\n",
       "      <td>Moderately Old</td>\n",
       "      <td>NaN</td>\n",
       "      <td>2160.0</td>\n",
       "      <td>1720.00</td>\n",
       "      <td>0</td>\n",
       "      <td>1</td>\n",
       "      <td>0</td>\n",
       "      <td>0</td>\n",
       "      <td>0</td>\n",
       "      <td>0</td>\n",
       "      <td>160</td>\n",
       "    </tr>\n",
       "    <tr>\n",
       "      <th>1471</th>\n",
       "      <td>house</td>\n",
       "      <td>independent</td>\n",
       "      <td>sector 4</td>\n",
       "      <td>0.85</td>\n",
       "      <td>630.0</td>\n",
       "      <td>13492.0</td>\n",
       "      <td>Plot area 1500(1254.19 sq.m.)</td>\n",
       "      <td>3</td>\n",
       "      <td>3</td>\n",
       "      <td>1</td>\n",
       "      <td>1.0</td>\n",
       "      <td>North</td>\n",
       "      <td>Relatively New</td>\n",
       "      <td>NaN</td>\n",
       "      <td>13500.0</td>\n",
       "      <td>NaN</td>\n",
       "      <td>0</td>\n",
       "      <td>0</td>\n",
       "      <td>0</td>\n",
       "      <td>0</td>\n",
       "      <td>1</td>\n",
       "      <td>0</td>\n",
       "      <td>0</td>\n",
       "    </tr>\n",
       "    <tr>\n",
       "      <th>3444</th>\n",
       "      <td>flat</td>\n",
       "      <td>godrej icon</td>\n",
       "      <td>sector 88a</td>\n",
       "      <td>1.75</td>\n",
       "      <td>1384.0</td>\n",
       "      <td>12645.0</td>\n",
       "      <td>Carpet area: 1175.11</td>\n",
       "      <td>3</td>\n",
       "      <td>3</td>\n",
       "      <td>3+</td>\n",
       "      <td>6.0</td>\n",
       "      <td>NaN</td>\n",
       "      <td>New Property</td>\n",
       "      <td>NaN</td>\n",
       "      <td>NaN</td>\n",
       "      <td>1175.11</td>\n",
       "      <td>0</td>\n",
       "      <td>0</td>\n",
       "      <td>0</td>\n",
       "      <td>0</td>\n",
       "      <td>0</td>\n",
       "      <td>0</td>\n",
       "      <td>55</td>\n",
       "    </tr>\n",
       "    <tr>\n",
       "      <th>2834</th>\n",
       "      <td>house</td>\n",
       "      <td>independent</td>\n",
       "      <td>sector 43</td>\n",
       "      <td>27.50</td>\n",
       "      <td>24366.0</td>\n",
       "      <td>11286.0</td>\n",
       "      <td>Plot area 1254(1048.5 sq.m.)</td>\n",
       "      <td>6</td>\n",
       "      <td>7</td>\n",
       "      <td>3+</td>\n",
       "      <td>3.0</td>\n",
       "      <td>North-East</td>\n",
       "      <td>Relatively New</td>\n",
       "      <td>NaN</td>\n",
       "      <td>11286.0</td>\n",
       "      <td>NaN</td>\n",
       "      <td>1</td>\n",
       "      <td>1</td>\n",
       "      <td>0</td>\n",
       "      <td>1</td>\n",
       "      <td>1</td>\n",
       "      <td>1</td>\n",
       "      <td>42</td>\n",
       "    </tr>\n",
       "    <tr>\n",
       "      <th>2342</th>\n",
       "      <td>flat</td>\n",
       "      <td>m3m golfestate</td>\n",
       "      <td>sector 65</td>\n",
       "      <td>13.20</td>\n",
       "      <td>12000.0</td>\n",
       "      <td>11000.0</td>\n",
       "      <td>Carpet area: 11000 (1021.93 sq.m.)</td>\n",
       "      <td>4</td>\n",
       "      <td>4</td>\n",
       "      <td>3</td>\n",
       "      <td>13.0</td>\n",
       "      <td>North</td>\n",
       "      <td>Moderately Old</td>\n",
       "      <td>NaN</td>\n",
       "      <td>NaN</td>\n",
       "      <td>11000.00</td>\n",
       "      <td>0</td>\n",
       "      <td>1</td>\n",
       "      <td>0</td>\n",
       "      <td>0</td>\n",
       "      <td>0</td>\n",
       "      <td>0</td>\n",
       "      <td>60</td>\n",
       "    </tr>\n",
       "    <tr>\n",
       "      <th>747</th>\n",
       "      <td>house</td>\n",
       "      <td>independent</td>\n",
       "      <td>sohna road</td>\n",
       "      <td>5.50</td>\n",
       "      <td>5093.0</td>\n",
       "      <td>10799.0</td>\n",
       "      <td>Plot area 1200(1003.35 sq.m.)Built Up area: 35...</td>\n",
       "      <td>3</td>\n",
       "      <td>3</td>\n",
       "      <td>3+</td>\n",
       "      <td>2.0</td>\n",
       "      <td>West</td>\n",
       "      <td>Moderately Old</td>\n",
       "      <td>NaN</td>\n",
       "      <td>3500.0</td>\n",
       "      <td>NaN</td>\n",
       "      <td>1</td>\n",
       "      <td>1</td>\n",
       "      <td>0</td>\n",
       "      <td>1</td>\n",
       "      <td>1</td>\n",
       "      <td>0</td>\n",
       "      <td>49</td>\n",
       "    </tr>\n",
       "  </tbody>\n",
       "</table>\n",
       "</div>"
      ],
      "text/plain": [
       "     property_type                    society      sector  price  \\\n",
       "818          house                independent   sector 26  18.40   \n",
       "48           house  ganpati heights apartment   sector 13   1.25   \n",
       "1123          flat                 rof ananda   sector 95   0.38   \n",
       "1796          flat                 rof ananda   sector 95   0.38   \n",
       "300          house      dlf city plot phase 4   sector 28  13.00   \n",
       "2             flat              pyramid elite   sector 86   0.46   \n",
       "2356          flat                 rof ananda   sector 95   0.33   \n",
       "115           flat      signature the serenas  sohna road   0.28   \n",
       "2666         house                independent   sector 25   7.30   \n",
       "3649          flat            ramsons kshitij   sector 95   0.24   \n",
       "2503          flat                 rof ananda   sector 95   0.21   \n",
       "1358         house                independent   sector 57   6.25   \n",
       "3195         house                independent   sector 43   5.50   \n",
       "2131          flat                 godrej air   sector 85   2.50   \n",
       "3088         house       unitech aspen greens   sector 50   6.95   \n",
       "1471         house                independent    sector 4   0.85   \n",
       "3444          flat                godrej icon  sector 88a   1.75   \n",
       "2834         house                independent   sector 43  27.50   \n",
       "2342          flat             m3m golfestate   sector 65  13.20   \n",
       "747          house                independent  sohna road   5.50   \n",
       "\n",
       "      price_per_sqft     area  \\\n",
       "818           1859.0  98978.0   \n",
       "48             151.0  82781.0   \n",
       "1123            58.0  65517.0   \n",
       "1796            58.0  65517.0   \n",
       "300           1992.0  65261.0   \n",
       "2               79.0  58228.0   \n",
       "2356            60.0  55000.0   \n",
       "115             57.0  49123.0   \n",
       "2666          1560.0  46795.0   \n",
       "3649            53.0  45283.0   \n",
       "2503            61.0  34426.0   \n",
       "1358          2778.0  22498.0   \n",
       "3195          2716.0  20250.0   \n",
       "2131          1379.0  18129.0   \n",
       "3088          4490.0  15479.0   \n",
       "1471           630.0  13492.0   \n",
       "3444          1384.0  12645.0   \n",
       "2834         24366.0  11286.0   \n",
       "2342         12000.0  11000.0   \n",
       "747           5093.0  10799.0   \n",
       "\n",
       "                                           areaWithType  bedRoom  bathroom  \\\n",
       "818   Plot area 502(419.74 sq.m.)Carpet area: 11000 ...        6         8   \n",
       "48                         Plot area 115(7692.86 sq.m.)       10         6   \n",
       "1123                 Carpet area: 64412 (5984.07 sq.m.)        3         2   \n",
       "1796                 Carpet area: 64529 (5994.94 sq.m.)        2         2   \n",
       "300                   Carpet area: 7250 (6061.92 sq.m.)       10        10   \n",
       "2                    Carpet area: 58141 (5401.48 sq.m.)        2         2   \n",
       "2356                 Carpet area: 54917 (5101.96 sq.m.)        2         2   \n",
       "115                  Carpet area: 48811 (4534.69 sq.m.)        1         1   \n",
       "2666  Plot area 215(179.77 sq.m.)Built Up area: 5800...        9         9   \n",
       "3649                 Carpet area: 45966 (4270.38 sq.m.)        2         2   \n",
       "2503                 Carpet area: 34401 (3195.96 sq.m.)        1         1   \n",
       "1358  Plot area 3100(2591.99 sq.m.)Built Up area: 26...        9         9   \n",
       "3195  Plot area 215(179.77 sq.m.)Built Up area: 2850...        8         7   \n",
       "2131                 Carpet area: 18122 (1683.59 sq.m.)        4         5   \n",
       "3088  Plot area 240(200.67 sq.m.)Built Up area: 2160...        3         3   \n",
       "1471                      Plot area 1500(1254.19 sq.m.)        3         3   \n",
       "3444                               Carpet area: 1175.11        3         3   \n",
       "2834                       Plot area 1254(1048.5 sq.m.)        6         7   \n",
       "2342                 Carpet area: 11000 (1021.93 sq.m.)        4         4   \n",
       "747   Plot area 1200(1003.35 sq.m.)Built Up area: 35...        3         3   \n",
       "\n",
       "     balcony  floorNum      facing       agePossession  super_built_up_area  \\\n",
       "818       3+       4.0       South      Relatively New                  NaN   \n",
       "48         2       3.0  South-East        Old Property                  NaN   \n",
       "1123       1      12.0       North      Relatively New                  NaN   \n",
       "1796       2      10.0        East        New Property                  NaN   \n",
       "300       3+       1.0         NaN           Undefined                  NaN   \n",
       "2          1       0.0         NaN  Under Construction                  NaN   \n",
       "2356       1      13.0  South-West      Relatively New                  NaN   \n",
       "115        2       1.0  North-West      Relatively New                  NaN   \n",
       "2666       2       3.0  North-West      Relatively New                  NaN   \n",
       "3649       1      10.0  North-West      Relatively New                  NaN   \n",
       "2503       1      13.0       North      Relatively New                  NaN   \n",
       "1358      3+       3.0  North-East        New Property                  NaN   \n",
       "3195      3+       3.0        East      Moderately Old                  NaN   \n",
       "2131      3+      16.0  North-East  Under Construction                  NaN   \n",
       "3088       1       2.0  North-East      Moderately Old                  NaN   \n",
       "1471       1       1.0       North      Relatively New                  NaN   \n",
       "3444      3+       6.0         NaN        New Property                  NaN   \n",
       "2834      3+       3.0  North-East      Relatively New                  NaN   \n",
       "2342       3      13.0       North      Moderately Old                  NaN   \n",
       "747       3+       2.0        West      Moderately Old                  NaN   \n",
       "\n",
       "      built_up_area  carpet_area  study room  servant room  store room  \\\n",
       "818             NaN     11000.00           0             1           1   \n",
       "48            115.0          NaN           0             0           0   \n",
       "1123            NaN     64412.00           0             0           0   \n",
       "1796            NaN     64529.00           1             0           0   \n",
       "300             NaN      7250.00           0             0           0   \n",
       "2               NaN     58141.00           0             0           0   \n",
       "2356            NaN     54917.00           0             0           0   \n",
       "115             NaN     48811.00           1             0           0   \n",
       "2666         5800.0      5200.00           0             1           1   \n",
       "3649            NaN     45966.00           0             0           0   \n",
       "2503            NaN     34401.00           0             0           0   \n",
       "1358         2660.0      2500.00           0             1           0   \n",
       "3195         2850.0      2250.00           1             1           0   \n",
       "2131            NaN     18122.00           1             0           0   \n",
       "3088         2160.0      1720.00           0             1           0   \n",
       "1471        13500.0          NaN           0             0           0   \n",
       "3444            NaN      1175.11           0             0           0   \n",
       "2834        11286.0          NaN           1             1           0   \n",
       "2342            NaN     11000.00           0             1           0   \n",
       "747          3500.0          NaN           1             1           0   \n",
       "\n",
       "      pooja room  others  furnishing_type  luxury_score  \n",
       "818            1       0                1            60  \n",
       "48             0       1                0             7  \n",
       "1123           0       0                0            51  \n",
       "1796           0       0                0            15  \n",
       "300            0       0                0             0  \n",
       "2              0       0                0            15  \n",
       "2356           0       0                0            37  \n",
       "115            0       0                0            37  \n",
       "2666           0       0                1           109  \n",
       "3649           0       1                0            33  \n",
       "2503           0       0                0            68  \n",
       "1358           0       0                1            61  \n",
       "3195           1       1                1           123  \n",
       "2131           1       1                1            44  \n",
       "3088           0       0                0           160  \n",
       "1471           0       1                0             0  \n",
       "3444           0       0                0            55  \n",
       "2834           1       1                1            42  \n",
       "2342           0       0                0            60  \n",
       "747            1       1                0            49  "
      ]
     },
     "execution_count": 55,
     "metadata": {},
     "output_type": "execute_result"
    }
   ],
   "source": [
    "df[df['area']>10000].sort_values('area',ascending=False)"
   ]
  },
  {
   "cell_type": "code",
   "execution_count": 56,
   "id": "d59e0341-6870-4c40-9bfb-d80d8f394894",
   "metadata": {},
   "outputs": [],
   "source": [
    "u_df = df.copy()"
   ]
  },
  {
   "cell_type": "code",
   "execution_count": 57,
   "id": "2ac05088-69d5-4792-8aa6-cca8280dc901",
   "metadata": {},
   "outputs": [],
   "source": [
    "u_df.drop(index=[818,1796,1123,2,2356,115,3649,2503,1471],inplace=True)"
   ]
  },
  {
   "cell_type": "code",
   "execution_count": 59,
   "id": "b89aa26c-9020-4655-bad3-a045503b8179",
   "metadata": {},
   "outputs": [
    {
     "data": {
      "text/html": [
       "<div>\n",
       "<style scoped>\n",
       "    .dataframe tbody tr th:only-of-type {\n",
       "        vertical-align: middle;\n",
       "    }\n",
       "\n",
       "    .dataframe tbody tr th {\n",
       "        vertical-align: top;\n",
       "    }\n",
       "\n",
       "    .dataframe thead th {\n",
       "        text-align: right;\n",
       "    }\n",
       "</style>\n",
       "<table border=\"1\" class=\"dataframe\">\n",
       "  <thead>\n",
       "    <tr style=\"text-align: right;\">\n",
       "      <th></th>\n",
       "      <th>property_type</th>\n",
       "      <th>society</th>\n",
       "      <th>sector</th>\n",
       "      <th>price</th>\n",
       "      <th>price_per_sqft</th>\n",
       "      <th>area</th>\n",
       "      <th>areaWithType</th>\n",
       "      <th>bedRoom</th>\n",
       "      <th>bathroom</th>\n",
       "      <th>balcony</th>\n",
       "      <th>floorNum</th>\n",
       "      <th>facing</th>\n",
       "      <th>agePossession</th>\n",
       "      <th>super_built_up_area</th>\n",
       "      <th>built_up_area</th>\n",
       "      <th>carpet_area</th>\n",
       "      <th>study room</th>\n",
       "      <th>servant room</th>\n",
       "      <th>store room</th>\n",
       "      <th>pooja room</th>\n",
       "      <th>others</th>\n",
       "      <th>furnishing_type</th>\n",
       "      <th>luxury_score</th>\n",
       "    </tr>\n",
       "  </thead>\n",
       "  <tbody>\n",
       "    <tr>\n",
       "      <th>48</th>\n",
       "      <td>house</td>\n",
       "      <td>ganpati heights apartment</td>\n",
       "      <td>sector 13</td>\n",
       "      <td>1.25</td>\n",
       "      <td>151.0</td>\n",
       "      <td>82781.0</td>\n",
       "      <td>Plot area 115(7692.86 sq.m.)</td>\n",
       "      <td>10</td>\n",
       "      <td>6</td>\n",
       "      <td>2</td>\n",
       "      <td>3.0</td>\n",
       "      <td>South-East</td>\n",
       "      <td>Old Property</td>\n",
       "      <td>NaN</td>\n",
       "      <td>115.0</td>\n",
       "      <td>NaN</td>\n",
       "      <td>0</td>\n",
       "      <td>0</td>\n",
       "      <td>0</td>\n",
       "      <td>0</td>\n",
       "      <td>1</td>\n",
       "      <td>0</td>\n",
       "      <td>7</td>\n",
       "    </tr>\n",
       "    <tr>\n",
       "      <th>300</th>\n",
       "      <td>house</td>\n",
       "      <td>dlf city plot phase 4</td>\n",
       "      <td>sector 28</td>\n",
       "      <td>13.00</td>\n",
       "      <td>1992.0</td>\n",
       "      <td>65261.0</td>\n",
       "      <td>Carpet area: 7250 (6061.92 sq.m.)</td>\n",
       "      <td>10</td>\n",
       "      <td>10</td>\n",
       "      <td>3+</td>\n",
       "      <td>1.0</td>\n",
       "      <td>NaN</td>\n",
       "      <td>Undefined</td>\n",
       "      <td>NaN</td>\n",
       "      <td>NaN</td>\n",
       "      <td>7250.00</td>\n",
       "      <td>0</td>\n",
       "      <td>0</td>\n",
       "      <td>0</td>\n",
       "      <td>0</td>\n",
       "      <td>0</td>\n",
       "      <td>0</td>\n",
       "      <td>0</td>\n",
       "    </tr>\n",
       "    <tr>\n",
       "      <th>2666</th>\n",
       "      <td>house</td>\n",
       "      <td>independent</td>\n",
       "      <td>sector 25</td>\n",
       "      <td>7.30</td>\n",
       "      <td>1560.0</td>\n",
       "      <td>46795.0</td>\n",
       "      <td>Plot area 215(179.77 sq.m.)Built Up area: 5800...</td>\n",
       "      <td>9</td>\n",
       "      <td>9</td>\n",
       "      <td>2</td>\n",
       "      <td>3.0</td>\n",
       "      <td>North-West</td>\n",
       "      <td>Relatively New</td>\n",
       "      <td>NaN</td>\n",
       "      <td>5800.0</td>\n",
       "      <td>5200.00</td>\n",
       "      <td>0</td>\n",
       "      <td>1</td>\n",
       "      <td>1</td>\n",
       "      <td>0</td>\n",
       "      <td>0</td>\n",
       "      <td>1</td>\n",
       "      <td>109</td>\n",
       "    </tr>\n",
       "    <tr>\n",
       "      <th>1358</th>\n",
       "      <td>house</td>\n",
       "      <td>independent</td>\n",
       "      <td>sector 57</td>\n",
       "      <td>6.25</td>\n",
       "      <td>2778.0</td>\n",
       "      <td>22498.0</td>\n",
       "      <td>Plot area 3100(2591.99 sq.m.)Built Up area: 26...</td>\n",
       "      <td>9</td>\n",
       "      <td>9</td>\n",
       "      <td>3+</td>\n",
       "      <td>3.0</td>\n",
       "      <td>North-East</td>\n",
       "      <td>New Property</td>\n",
       "      <td>NaN</td>\n",
       "      <td>2660.0</td>\n",
       "      <td>2500.00</td>\n",
       "      <td>0</td>\n",
       "      <td>1</td>\n",
       "      <td>0</td>\n",
       "      <td>0</td>\n",
       "      <td>0</td>\n",
       "      <td>1</td>\n",
       "      <td>61</td>\n",
       "    </tr>\n",
       "    <tr>\n",
       "      <th>3195</th>\n",
       "      <td>house</td>\n",
       "      <td>independent</td>\n",
       "      <td>sector 43</td>\n",
       "      <td>5.50</td>\n",
       "      <td>2716.0</td>\n",
       "      <td>20250.0</td>\n",
       "      <td>Plot area 215(179.77 sq.m.)Built Up area: 2850...</td>\n",
       "      <td>8</td>\n",
       "      <td>7</td>\n",
       "      <td>3+</td>\n",
       "      <td>3.0</td>\n",
       "      <td>East</td>\n",
       "      <td>Moderately Old</td>\n",
       "      <td>NaN</td>\n",
       "      <td>2850.0</td>\n",
       "      <td>2250.00</td>\n",
       "      <td>1</td>\n",
       "      <td>1</td>\n",
       "      <td>0</td>\n",
       "      <td>1</td>\n",
       "      <td>1</td>\n",
       "      <td>1</td>\n",
       "      <td>123</td>\n",
       "    </tr>\n",
       "    <tr>\n",
       "      <th>2131</th>\n",
       "      <td>flat</td>\n",
       "      <td>godrej air</td>\n",
       "      <td>sector 85</td>\n",
       "      <td>2.50</td>\n",
       "      <td>1379.0</td>\n",
       "      <td>18129.0</td>\n",
       "      <td>Carpet area: 18122 (1683.59 sq.m.)</td>\n",
       "      <td>4</td>\n",
       "      <td>5</td>\n",
       "      <td>3+</td>\n",
       "      <td>16.0</td>\n",
       "      <td>North-East</td>\n",
       "      <td>Under Construction</td>\n",
       "      <td>NaN</td>\n",
       "      <td>NaN</td>\n",
       "      <td>18122.00</td>\n",
       "      <td>1</td>\n",
       "      <td>0</td>\n",
       "      <td>0</td>\n",
       "      <td>1</td>\n",
       "      <td>1</td>\n",
       "      <td>1</td>\n",
       "      <td>44</td>\n",
       "    </tr>\n",
       "    <tr>\n",
       "      <th>3088</th>\n",
       "      <td>house</td>\n",
       "      <td>unitech aspen greens</td>\n",
       "      <td>sector 50</td>\n",
       "      <td>6.95</td>\n",
       "      <td>4490.0</td>\n",
       "      <td>15479.0</td>\n",
       "      <td>Plot area 240(200.67 sq.m.)Built Up area: 2160...</td>\n",
       "      <td>3</td>\n",
       "      <td>3</td>\n",
       "      <td>1</td>\n",
       "      <td>2.0</td>\n",
       "      <td>North-East</td>\n",
       "      <td>Moderately Old</td>\n",
       "      <td>NaN</td>\n",
       "      <td>2160.0</td>\n",
       "      <td>1720.00</td>\n",
       "      <td>0</td>\n",
       "      <td>1</td>\n",
       "      <td>0</td>\n",
       "      <td>0</td>\n",
       "      <td>0</td>\n",
       "      <td>0</td>\n",
       "      <td>160</td>\n",
       "    </tr>\n",
       "    <tr>\n",
       "      <th>3444</th>\n",
       "      <td>flat</td>\n",
       "      <td>godrej icon</td>\n",
       "      <td>sector 88a</td>\n",
       "      <td>1.75</td>\n",
       "      <td>1384.0</td>\n",
       "      <td>12645.0</td>\n",
       "      <td>Carpet area: 1175.11</td>\n",
       "      <td>3</td>\n",
       "      <td>3</td>\n",
       "      <td>3+</td>\n",
       "      <td>6.0</td>\n",
       "      <td>NaN</td>\n",
       "      <td>New Property</td>\n",
       "      <td>NaN</td>\n",
       "      <td>NaN</td>\n",
       "      <td>1175.11</td>\n",
       "      <td>0</td>\n",
       "      <td>0</td>\n",
       "      <td>0</td>\n",
       "      <td>0</td>\n",
       "      <td>0</td>\n",
       "      <td>0</td>\n",
       "      <td>55</td>\n",
       "    </tr>\n",
       "    <tr>\n",
       "      <th>2834</th>\n",
       "      <td>house</td>\n",
       "      <td>independent</td>\n",
       "      <td>sector 43</td>\n",
       "      <td>27.50</td>\n",
       "      <td>24366.0</td>\n",
       "      <td>11286.0</td>\n",
       "      <td>Plot area 1254(1048.5 sq.m.)</td>\n",
       "      <td>6</td>\n",
       "      <td>7</td>\n",
       "      <td>3+</td>\n",
       "      <td>3.0</td>\n",
       "      <td>North-East</td>\n",
       "      <td>Relatively New</td>\n",
       "      <td>NaN</td>\n",
       "      <td>11286.0</td>\n",
       "      <td>NaN</td>\n",
       "      <td>1</td>\n",
       "      <td>1</td>\n",
       "      <td>0</td>\n",
       "      <td>1</td>\n",
       "      <td>1</td>\n",
       "      <td>1</td>\n",
       "      <td>42</td>\n",
       "    </tr>\n",
       "    <tr>\n",
       "      <th>2342</th>\n",
       "      <td>flat</td>\n",
       "      <td>m3m golfestate</td>\n",
       "      <td>sector 65</td>\n",
       "      <td>13.20</td>\n",
       "      <td>12000.0</td>\n",
       "      <td>11000.0</td>\n",
       "      <td>Carpet area: 11000 (1021.93 sq.m.)</td>\n",
       "      <td>4</td>\n",
       "      <td>4</td>\n",
       "      <td>3</td>\n",
       "      <td>13.0</td>\n",
       "      <td>North</td>\n",
       "      <td>Moderately Old</td>\n",
       "      <td>NaN</td>\n",
       "      <td>NaN</td>\n",
       "      <td>11000.00</td>\n",
       "      <td>0</td>\n",
       "      <td>1</td>\n",
       "      <td>0</td>\n",
       "      <td>0</td>\n",
       "      <td>0</td>\n",
       "      <td>0</td>\n",
       "      <td>60</td>\n",
       "    </tr>\n",
       "    <tr>\n",
       "      <th>747</th>\n",
       "      <td>house</td>\n",
       "      <td>independent</td>\n",
       "      <td>sohna road</td>\n",
       "      <td>5.50</td>\n",
       "      <td>5093.0</td>\n",
       "      <td>10799.0</td>\n",
       "      <td>Plot area 1200(1003.35 sq.m.)Built Up area: 35...</td>\n",
       "      <td>3</td>\n",
       "      <td>3</td>\n",
       "      <td>3+</td>\n",
       "      <td>2.0</td>\n",
       "      <td>West</td>\n",
       "      <td>Moderately Old</td>\n",
       "      <td>NaN</td>\n",
       "      <td>3500.0</td>\n",
       "      <td>NaN</td>\n",
       "      <td>1</td>\n",
       "      <td>1</td>\n",
       "      <td>0</td>\n",
       "      <td>1</td>\n",
       "      <td>1</td>\n",
       "      <td>0</td>\n",
       "      <td>49</td>\n",
       "    </tr>\n",
       "  </tbody>\n",
       "</table>\n",
       "</div>"
      ],
      "text/plain": [
       "     property_type                    society      sector  price  \\\n",
       "48           house  ganpati heights apartment   sector 13   1.25   \n",
       "300          house      dlf city plot phase 4   sector 28  13.00   \n",
       "2666         house                independent   sector 25   7.30   \n",
       "1358         house                independent   sector 57   6.25   \n",
       "3195         house                independent   sector 43   5.50   \n",
       "2131          flat                 godrej air   sector 85   2.50   \n",
       "3088         house       unitech aspen greens   sector 50   6.95   \n",
       "3444          flat                godrej icon  sector 88a   1.75   \n",
       "2834         house                independent   sector 43  27.50   \n",
       "2342          flat             m3m golfestate   sector 65  13.20   \n",
       "747          house                independent  sohna road   5.50   \n",
       "\n",
       "      price_per_sqft     area  \\\n",
       "48             151.0  82781.0   \n",
       "300           1992.0  65261.0   \n",
       "2666          1560.0  46795.0   \n",
       "1358          2778.0  22498.0   \n",
       "3195          2716.0  20250.0   \n",
       "2131          1379.0  18129.0   \n",
       "3088          4490.0  15479.0   \n",
       "3444          1384.0  12645.0   \n",
       "2834         24366.0  11286.0   \n",
       "2342         12000.0  11000.0   \n",
       "747           5093.0  10799.0   \n",
       "\n",
       "                                           areaWithType  bedRoom  bathroom  \\\n",
       "48                         Plot area 115(7692.86 sq.m.)       10         6   \n",
       "300                   Carpet area: 7250 (6061.92 sq.m.)       10        10   \n",
       "2666  Plot area 215(179.77 sq.m.)Built Up area: 5800...        9         9   \n",
       "1358  Plot area 3100(2591.99 sq.m.)Built Up area: 26...        9         9   \n",
       "3195  Plot area 215(179.77 sq.m.)Built Up area: 2850...        8         7   \n",
       "2131                 Carpet area: 18122 (1683.59 sq.m.)        4         5   \n",
       "3088  Plot area 240(200.67 sq.m.)Built Up area: 2160...        3         3   \n",
       "3444                               Carpet area: 1175.11        3         3   \n",
       "2834                       Plot area 1254(1048.5 sq.m.)        6         7   \n",
       "2342                 Carpet area: 11000 (1021.93 sq.m.)        4         4   \n",
       "747   Plot area 1200(1003.35 sq.m.)Built Up area: 35...        3         3   \n",
       "\n",
       "     balcony  floorNum      facing       agePossession  super_built_up_area  \\\n",
       "48         2       3.0  South-East        Old Property                  NaN   \n",
       "300       3+       1.0         NaN           Undefined                  NaN   \n",
       "2666       2       3.0  North-West      Relatively New                  NaN   \n",
       "1358      3+       3.0  North-East        New Property                  NaN   \n",
       "3195      3+       3.0        East      Moderately Old                  NaN   \n",
       "2131      3+      16.0  North-East  Under Construction                  NaN   \n",
       "3088       1       2.0  North-East      Moderately Old                  NaN   \n",
       "3444      3+       6.0         NaN        New Property                  NaN   \n",
       "2834      3+       3.0  North-East      Relatively New                  NaN   \n",
       "2342       3      13.0       North      Moderately Old                  NaN   \n",
       "747       3+       2.0        West      Moderately Old                  NaN   \n",
       "\n",
       "      built_up_area  carpet_area  study room  servant room  store room  \\\n",
       "48            115.0          NaN           0             0           0   \n",
       "300             NaN      7250.00           0             0           0   \n",
       "2666         5800.0      5200.00           0             1           1   \n",
       "1358         2660.0      2500.00           0             1           0   \n",
       "3195         2850.0      2250.00           1             1           0   \n",
       "2131            NaN     18122.00           1             0           0   \n",
       "3088         2160.0      1720.00           0             1           0   \n",
       "3444            NaN      1175.11           0             0           0   \n",
       "2834        11286.0          NaN           1             1           0   \n",
       "2342            NaN     11000.00           0             1           0   \n",
       "747          3500.0          NaN           1             1           0   \n",
       "\n",
       "      pooja room  others  furnishing_type  luxury_score  \n",
       "48             0       1                0             7  \n",
       "300            0       0                0             0  \n",
       "2666           0       0                1           109  \n",
       "1358           0       0                1            61  \n",
       "3195           1       1                1           123  \n",
       "2131           1       1                1            44  \n",
       "3088           0       0                0           160  \n",
       "3444           0       0                0            55  \n",
       "2834           1       1                1            42  \n",
       "2342           0       0                0            60  \n",
       "747            1       1                0            49  "
      ]
     },
     "execution_count": 59,
     "metadata": {},
     "output_type": "execute_result"
    }
   ],
   "source": [
    "u_df[u_df['area']>10000].sort_values('area',ascending=False)"
   ]
  },
  {
   "cell_type": "code",
   "execution_count": 70,
   "id": "6bb9160e-c34c-452c-89a9-ee6e13b61087",
   "metadata": {},
   "outputs": [],
   "source": [
    "u_df.loc[48,'area'] = 115*9\n",
    "u_df.loc[300,'area'] = 7250\n",
    "u_df.loc[2666,'area'] = 5800\n",
    "u_df.loc[1358,'area'] = 2660\n",
    "u_df.loc[3195,'area'] = 2850\n",
    "u_df.loc[2131,'area'] = 1812\n",
    "u_df.loc[3088,'area'] = 2160\n",
    "u_df.loc[3444,'area'] = 1175"
   ]
  },
  {
   "cell_type": "code",
   "execution_count": 69,
   "id": "e9bcda61-5854-4811-9ba4-8d00e153747c",
   "metadata": {},
   "outputs": [
    {
     "data": {
      "text/plain": [
       "property_type                          flat\n",
       "society                         godrej icon\n",
       "sector                           sector 88a\n",
       "price                                  1.75\n",
       "price_per_sqft                       1384.0\n",
       "area                                12645.0\n",
       "areaWithType           Carpet area: 1175.11\n",
       "bedRoom                                   3\n",
       "bathroom                                  3\n",
       "balcony                                  3+\n",
       "floorNum                                6.0\n",
       "facing                                  NaN\n",
       "agePossession                  New Property\n",
       "super_built_up_area                     NaN\n",
       "built_up_area                           NaN\n",
       "carpet_area                         1175.11\n",
       "study room                                0\n",
       "servant room                              0\n",
       "store room                                0\n",
       "pooja room                                0\n",
       "others                                    0\n",
       "furnishing_type                           0\n",
       "luxury_score                             55\n",
       "Name: 3444, dtype: object"
      ]
     },
     "execution_count": 69,
     "metadata": {},
     "output_type": "execute_result"
    }
   ],
   "source": [
    "u_df.loc[3444]"
   ]
  },
  {
   "cell_type": "code",
   "execution_count": 71,
   "id": "e30cb3c5-afbe-485c-a081-77b2f3aa23ff",
   "metadata": {},
   "outputs": [
    {
     "name": "stderr",
     "output_type": "stream",
     "text": [
      "C:\\Users\\debas\\AppData\\Local\\Temp\\ipykernel_7108\\4114591742.py:2: UserWarning: \n",
      "\n",
      "`distplot` is a deprecated function and will be removed in seaborn v0.14.0.\n",
      "\n",
      "Please adapt your code to use either `displot` (a figure-level function with\n",
      "similar flexibility) or `histplot` (an axes-level function for histograms).\n",
      "\n",
      "For a guide to updating your code to use the new functions, please see\n",
      "https://gist.github.com/mwaskom/de44147ed2974457ad6372750bbe5751\n",
      "\n",
      "  sns.distplot(u_df['area'])\n"
     ]
    },
    {
     "data": {
      "text/plain": [
       "<Axes: xlabel='area', ylabel='Density'>"
      ]
     },
     "execution_count": 71,
     "metadata": {},
     "output_type": "execute_result"
    },
    {
     "data": {
      "image/png": "[encoded data removed]",
      "text/plain": [
       "<Figure size 600x300 with 1 Axes>"
      ]
     },
     "metadata": {},
     "output_type": "display_data"
    }
   ],
   "source": [
    "plt.figure(figsize=(6,3))\n",
    "sns.distplot(u_df['area'])"
   ]
  },
  {
   "cell_type": "code",
   "execution_count": 73,
   "id": "0f5f9afd-2013-4996-b1c1-e8fc1e3b12d1",
   "metadata": {},
   "outputs": [
    {
     "data": {
      "text/plain": [
       "<Axes: xlabel='area'>"
      ]
     },
     "execution_count": 73,
     "metadata": {},
     "output_type": "execute_result"
    },
    {
     "data": {
      "image/png": "[encoded data removed]",
      "text/plain": [
       "<Figure size 500x300 with 1 Axes>"
      ]
     },
     "metadata": {},
     "output_type": "display_data"
    }
   ],
   "source": [
    "plt.figure(figsize=(5,3))\n",
    "sns.boxplot(u_df['area'],orient='h')"
   ]
  },
  {
   "cell_type": "code",
   "execution_count": 75,
   "id": "7b05f2a0-2916-4783-a969-277fff8e5bc1",
   "metadata": {},
   "outputs": [
    {
     "name": "stderr",
     "output_type": "stream",
     "text": [
      "C:\\Users\\debas\\AppData\\Local\\Temp\\ipykernel_7108\\2048914231.py:2: UserWarning: \n",
      "\n",
      "`distplot` is a deprecated function and will be removed in seaborn v0.14.0.\n",
      "\n",
      "Please adapt your code to use either `displot` (a figure-level function with\n",
      "similar flexibility) or `histplot` (an axes-level function for histograms).\n",
      "\n",
      "For a guide to updating your code to use the new functions, please see\n",
      "https://gist.github.com/mwaskom/de44147ed2974457ad6372750bbe5751\n",
      "\n",
      "  sns.distplot(u_df['bedRoom'])\n"
     ]
    },
    {
     "data": {
      "text/plain": [
       "<Axes: xlabel='bedRoom', ylabel='Density'>"
      ]
     },
     "execution_count": 75,
     "metadata": {},
     "output_type": "execute_result"
    },
    {
     "data": {
      "image/png": "[encoded data removed]",
      "text/plain": [
       "<Figure size 600x300 with 1 Axes>"
      ]
     },
     "metadata": {},
     "output_type": "display_data"
    }
   ],
   "source": [
    "plt.figure(figsize=(6,3))\n",
    "sns.distplot(u_df['bedRoom'])"
   ]
  },
  {
   "cell_type": "code",
   "execution_count": 76,
   "id": "b41a9aeb-feca-4a72-994f-0020636d8869",
   "metadata": {},
   "outputs": [
    {
     "data": {
      "text/plain": [
       "<Axes: xlabel='bedRoom'>"
      ]
     },
     "execution_count": 76,
     "metadata": {},
     "output_type": "execute_result"
    },
    {
     "data": {
      "image/png": "[encoded data removed]",
      "text/plain": [
       "<Figure size 500x300 with 1 Axes>"
      ]
     },
     "metadata": {},
     "output_type": "display_data"
    }
   ],
   "source": [
    "plt.figure(figsize=(5,3))\n",
    "sns.boxplot(u_df['bedRoom'],orient='h')"
   ]
  },
  {
   "cell_type": "code",
   "execution_count": 77,
   "id": "2c4f9a6e-326b-48c0-8d7c-6ac88d7b2159",
   "metadata": {},
   "outputs": [
    {
     "data": {
      "text/plain": [
       "count    3633.000000\n",
       "mean        3.333609\n",
       "std         1.830035\n",
       "min         1.000000\n",
       "25%         2.000000\n",
       "50%         3.000000\n",
       "75%         4.000000\n",
       "max        21.000000\n",
       "Name: bedRoom, dtype: float64"
      ]
     },
     "execution_count": 77,
     "metadata": {},
     "output_type": "execute_result"
    }
   ],
   "source": [
    "u_df['bedRoom'].describe()"
   ]
  },
  {
   "cell_type": "code",
   "execution_count": 80,
   "id": "ae2cff23-f614-4048-986a-fcd230b52c2d",
   "metadata": {},
   "outputs": [
    {
     "data": {
      "text/plain": [
       "45"
      ]
     },
     "execution_count": 80,
     "metadata": {},
     "output_type": "execute_result"
    }
   ],
   "source": [
    "u_df[u_df['bedRoom']>10].sort_values('bedRoom',ascending=False).shape[0]"
   ]
  },
  {
   "cell_type": "code",
   "execution_count": 81,
   "id": "6060c271-473c-4c1d-8064-5566b1e6e1ba",
   "metadata": {},
   "outputs": [],
   "source": [
    "u_df = u_df[u_df['bedRoom']<=10]"
   ]
  },
  {
   "cell_type": "code",
   "execution_count": 82,
   "id": "bf730732-b112-4078-ab99-ca53c62494ba",
   "metadata": {},
   "outputs": [
    {
     "data": {
      "text/plain": [
       "(3588, 23)"
      ]
     },
     "execution_count": 82,
     "metadata": {},
     "output_type": "execute_result"
    }
   ],
   "source": [
    "u_df.shape"
   ]
  },
  {
   "cell_type": "code",
   "execution_count": 83,
   "id": "89bce32d-bc0c-44b9-b8f9-e9ddca29ce2e",
   "metadata": {},
   "outputs": [
    {
     "name": "stderr",
     "output_type": "stream",
     "text": [
      "C:\\Users\\debas\\AppData\\Local\\Temp\\ipykernel_7108\\2048914231.py:2: UserWarning: \n",
      "\n",
      "`distplot` is a deprecated function and will be removed in seaborn v0.14.0.\n",
      "\n",
      "Please adapt your code to use either `displot` (a figure-level function with\n",
      "similar flexibility) or `histplot` (an axes-level function for histograms).\n",
      "\n",
      "For a guide to updating your code to use the new functions, please see\n",
      "https://gist.github.com/mwaskom/de44147ed2974457ad6372750bbe5751\n",
      "\n",
      "  sns.distplot(u_df['bedRoom'])\n"
     ]
    },
    {
     "data": {
      "text/plain": [
       "<Axes: xlabel='bedRoom', ylabel='Density'>"
      ]
     },
     "execution_count": 83,
     "metadata": {},
     "output_type": "execute_result"
    },
    {
     "data": {
      "image/png": "[encoded data removed]",
      "text/plain": [
       "<Figure size 600x300 with 1 Axes>"
      ]
     },
     "metadata": {},
     "output_type": "display_data"
    }
   ],
   "source": [
    "plt.figure(figsize=(6,3))\n",
    "sns.distplot(u_df['bedRoom'])"
   ]
  },
  {
   "cell_type": "code",
   "execution_count": 84,
   "id": "37077a33-9219-46a7-b442-28fbdbb27bec",
   "metadata": {},
   "outputs": [
    {
     "data": {
      "text/plain": [
       "<Axes: xlabel='bedRoom'>"
      ]
     },
     "execution_count": 84,
     "metadata": {},
     "output_type": "execute_result"
    },
    {
     "data": {
      "image/png": "[encoded data removed]",
      "text/plain": [
       "<Figure size 500x300 with 1 Axes>"
      ]
     },
     "metadata": {},
     "output_type": "display_data"
    }
   ],
   "source": [
    "plt.figure(figsize=(5,3))\n",
    "sns.boxplot(u_df['bedRoom'],orient='h')"
   ]
  },
  {
   "cell_type": "code",
   "execution_count": 86,
   "id": "c3662e0f-4f62-47a9-aad5-ec035a851060",
   "metadata": {},
   "outputs": [
    {
     "name": "stderr",
     "output_type": "stream",
     "text": [
      "C:\\Users\\debas\\AppData\\Local\\Temp\\ipykernel_7108\\1493010051.py:2: UserWarning: \n",
      "\n",
      "`distplot` is a deprecated function and will be removed in seaborn v0.14.0.\n",
      "\n",
      "Please adapt your code to use either `displot` (a figure-level function with\n",
      "similar flexibility) or `histplot` (an axes-level function for histograms).\n",
      "\n",
      "For a guide to updating your code to use the new functions, please see\n",
      "https://gist.github.com/mwaskom/de44147ed2974457ad6372750bbe5751\n",
      "\n",
      "  sns.distplot(u_df['bathroom'])\n"
     ]
    },
    {
     "data": {
      "text/plain": [
       "<Axes: xlabel='bathroom', ylabel='Density'>"
      ]
     },
     "execution_count": 86,
     "metadata": {},
     "output_type": "execute_result"
    },
    {
     "data": {
      "image/png": "[encoded data removed]",
      "text/plain": [
       "<Figure size 600x300 with 1 Axes>"
      ]
     },
     "metadata": {},
     "output_type": "display_data"
    }
   ],
   "source": [
    "plt.figure(figsize=(6,3))\n",
    "sns.distplot(u_df['bathroom'])"
   ]
  },
  {
   "cell_type": "code",
   "execution_count": 87,
   "id": "03f50b01-9f61-46df-a317-e0571baa36af",
   "metadata": {},
   "outputs": [
    {
     "data": {
      "text/plain": [
       "count    3588.000000\n",
       "mean        3.203735\n",
       "std         1.393968\n",
       "min         1.000000\n",
       "25%         2.000000\n",
       "50%         3.000000\n",
       "75%         4.000000\n",
       "max        10.000000\n",
       "Name: bedRoom, dtype: float64"
      ]
     },
     "execution_count": 87,
     "metadata": {},
     "output_type": "execute_result"
    }
   ],
   "source": [
    "u_df['bedRoom'].describe()"
   ]
  },
  {
   "cell_type": "code",
   "execution_count": 88,
   "id": "0aa11dd7-b1a9-42b3-b0d4-51ba08177242",
   "metadata": {},
   "outputs": [
    {
     "data": {
      "text/plain": [
       "3"
      ]
     },
     "execution_count": 88,
     "metadata": {},
     "output_type": "execute_result"
    }
   ],
   "source": [
    "u_df[u_df['bathroom']>10].sort_values('bathroom',ascending=False).shape[0]"
   ]
  },
  {
   "cell_type": "code",
   "execution_count": 89,
   "id": "ffa475b1-b209-490d-a666-7e1b610bddce",
   "metadata": {},
   "outputs": [
    {
     "name": "stderr",
     "output_type": "stream",
     "text": [
      "C:\\Users\\debas\\AppData\\Local\\Temp\\ipykernel_7108\\3492146988.py:2: UserWarning: \n",
      "\n",
      "`distplot` is a deprecated function and will be removed in seaborn v0.14.0.\n",
      "\n",
      "Please adapt your code to use either `displot` (a figure-level function with\n",
      "similar flexibility) or `histplot` (an axes-level function for histograms).\n",
      "\n",
      "For a guide to updating your code to use the new functions, please see\n",
      "https://gist.github.com/mwaskom/de44147ed2974457ad6372750bbe5751\n",
      "\n",
      "  sns.distplot(u_df['super_built_up_area'])\n"
     ]
    },
    {
     "data": {
      "text/plain": [
       "<Axes: xlabel='super_built_up_area', ylabel='Density'>"
      ]
     },
     "execution_count": 89,
     "metadata": {},
     "output_type": "execute_result"
    },
    {
     "data": {
      "image/png": "[encoded data removed]",
      "text/plain": [
       "<Figure size 600x300 with 1 Axes>"
      ]
     },
     "metadata": {},
     "output_type": "display_data"
    }
   ],
   "source": [
    "plt.figure(figsize=(6,3))\n",
    "sns.distplot(u_df['super_built_up_area'])"
   ]
  },
  {
   "cell_type": "code",
   "execution_count": 90,
   "id": "02234c84-cdb0-40fc-8283-b2c9264920be",
   "metadata": {},
   "outputs": [
    {
     "data": {
      "text/plain": [
       "count     1875.000000\n",
       "mean      1925.237627\n",
       "std        764.172177\n",
       "min         89.000000\n",
       "25%       1479.500000\n",
       "50%       1828.000000\n",
       "75%       2215.000000\n",
       "max      10000.000000\n",
       "Name: super_built_up_area, dtype: float64"
      ]
     },
     "execution_count": 90,
     "metadata": {},
     "output_type": "execute_result"
    }
   ],
   "source": [
    "u_df['super_built_up_area'].describe()"
   ]
  },
  {
   "cell_type": "code",
   "execution_count": 91,
   "id": "571859bc-7444-43b5-a1dd-cd81e0edcb1a",
   "metadata": {},
   "outputs": [
    {
     "name": "stderr",
     "output_type": "stream",
     "text": [
      "C:\\Users\\debas\\AppData\\Local\\Temp\\ipykernel_7108\\1482659665.py:2: UserWarning: \n",
      "\n",
      "`distplot` is a deprecated function and will be removed in seaborn v0.14.0.\n",
      "\n",
      "Please adapt your code to use either `displot` (a figure-level function with\n",
      "similar flexibility) or `histplot` (an axes-level function for histograms).\n",
      "\n",
      "For a guide to updating your code to use the new functions, please see\n",
      "https://gist.github.com/mwaskom/de44147ed2974457ad6372750bbe5751\n",
      "\n",
      "  sns.distplot(u_df['built_up_area'])\n"
     ]
    },
    {
     "data": {
      "text/plain": [
       "<Axes: xlabel='built_up_area', ylabel='Density'>"
      ]
     },
     "execution_count": 91,
     "metadata": {},
     "output_type": "execute_result"
    },
    {
     "data": {
      "image/png": "[encoded data removed]",
      "text/plain": [
       "<Figure size 600x300 with 1 Axes>"
      ]
     },
     "metadata": {},
     "output_type": "display_data"
    }
   ],
   "source": [
    "plt.figure(figsize=(6,3))\n",
    "sns.distplot(u_df['built_up_area'])"
   ]
  },
  {
   "cell_type": "code",
   "execution_count": 92,
   "id": "9a8697f6-6b24-49fe-a070-b215de0e80ac",
   "metadata": {},
   "outputs": [
    {
     "data": {
      "text/html": [
       "<div>\n",
       "<style scoped>\n",
       "    .dataframe tbody tr th:only-of-type {\n",
       "        vertical-align: middle;\n",
       "    }\n",
       "\n",
       "    .dataframe tbody tr th {\n",
       "        vertical-align: top;\n",
       "    }\n",
       "\n",
       "    .dataframe thead th {\n",
       "        text-align: right;\n",
       "    }\n",
       "</style>\n",
       "<table border=\"1\" class=\"dataframe\">\n",
       "  <thead>\n",
       "    <tr style=\"text-align: right;\">\n",
       "      <th></th>\n",
       "      <th>property_type</th>\n",
       "      <th>society</th>\n",
       "      <th>sector</th>\n",
       "      <th>price</th>\n",
       "      <th>price_per_sqft</th>\n",
       "      <th>area</th>\n",
       "      <th>areaWithType</th>\n",
       "      <th>bedRoom</th>\n",
       "      <th>bathroom</th>\n",
       "      <th>balcony</th>\n",
       "      <th>floorNum</th>\n",
       "      <th>facing</th>\n",
       "      <th>agePossession</th>\n",
       "      <th>super_built_up_area</th>\n",
       "      <th>built_up_area</th>\n",
       "      <th>carpet_area</th>\n",
       "      <th>study room</th>\n",
       "      <th>servant room</th>\n",
       "      <th>store room</th>\n",
       "      <th>pooja room</th>\n",
       "      <th>others</th>\n",
       "      <th>furnishing_type</th>\n",
       "      <th>luxury_score</th>\n",
       "    </tr>\n",
       "  </thead>\n",
       "  <tbody>\n",
       "    <tr>\n",
       "      <th>2834</th>\n",
       "      <td>house</td>\n",
       "      <td>independent</td>\n",
       "      <td>sector 43</td>\n",
       "      <td>27.5</td>\n",
       "      <td>24366.0</td>\n",
       "      <td>11286.0</td>\n",
       "      <td>Plot area 1254(1048.5 sq.m.)</td>\n",
       "      <td>6</td>\n",
       "      <td>7</td>\n",
       "      <td>3+</td>\n",
       "      <td>3.0</td>\n",
       "      <td>North-East</td>\n",
       "      <td>Relatively New</td>\n",
       "      <td>NaN</td>\n",
       "      <td>11286.0</td>\n",
       "      <td>NaN</td>\n",
       "      <td>1</td>\n",
       "      <td>1</td>\n",
       "      <td>0</td>\n",
       "      <td>1</td>\n",
       "      <td>1</td>\n",
       "      <td>1</td>\n",
       "      <td>42</td>\n",
       "    </tr>\n",
       "  </tbody>\n",
       "</table>\n",
       "</div>"
      ],
      "text/plain": [
       "     property_type      society     sector  price  price_per_sqft     area  \\\n",
       "2834         house  independent  sector 43   27.5         24366.0  11286.0   \n",
       "\n",
       "                      areaWithType  bedRoom  bathroom balcony  floorNum  \\\n",
       "2834  Plot area 1254(1048.5 sq.m.)        6         7      3+       3.0   \n",
       "\n",
       "          facing   agePossession  super_built_up_area  built_up_area  \\\n",
       "2834  North-East  Relatively New                  NaN        11286.0   \n",
       "\n",
       "      carpet_area  study room  servant room  store room  pooja room  others  \\\n",
       "2834          NaN           1             1           0           1       1   \n",
       "\n",
       "      furnishing_type  luxury_score  \n",
       "2834                1            42  "
      ]
     },
     "execution_count": 92,
     "metadata": {},
     "output_type": "execute_result"
    }
   ],
   "source": [
    "u_df[u_df['built_up_area']>10000]"
   ]
  },
  {
   "cell_type": "code",
   "execution_count": 93,
   "id": "b652ab27-00f1-489d-b58b-d1102f59cf6e",
   "metadata": {},
   "outputs": [
    {
     "name": "stderr",
     "output_type": "stream",
     "text": [
      "C:\\Users\\debas\\AppData\\Local\\Temp\\ipykernel_7108\\1917144095.py:2: UserWarning: \n",
      "\n",
      "`distplot` is a deprecated function and will be removed in seaborn v0.14.0.\n",
      "\n",
      "Please adapt your code to use either `displot` (a figure-level function with\n",
      "similar flexibility) or `histplot` (an axes-level function for histograms).\n",
      "\n",
      "For a guide to updating your code to use the new functions, please see\n",
      "https://gist.github.com/mwaskom/de44147ed2974457ad6372750bbe5751\n",
      "\n",
      "  sns.distplot(u_df['carpet_area'])\n"
     ]
    },
    {
     "data": {
      "text/plain": [
       "<Axes: xlabel='carpet_area', ylabel='Density'>"
      ]
     },
     "execution_count": 93,
     "metadata": {},
     "output_type": "execute_result"
    },
    {
     "data": {
      "image/png": "[encoded data removed]",
      "text/plain": [
       "<Figure size 600x300 with 1 Axes>"
      ]
     },
     "metadata": {},
     "output_type": "display_data"
    }
   ],
   "source": [
    "plt.figure(figsize=(6,3))\n",
    "sns.distplot(u_df['carpet_area'])"
   ]
  },
  {
   "cell_type": "code",
   "execution_count": 95,
   "id": "eb9b741f-7521-4044-9fce-1e462671d337",
   "metadata": {},
   "outputs": [
    {
     "data": {
      "text/plain": [
       "<Axes: xlabel='carpet_area'>"
      ]
     },
     "execution_count": 95,
     "metadata": {},
     "output_type": "execute_result"
    },
    {
     "data": {
      "image/png": "[encoded data removed]",
      "text/plain": [
       "<Figure size 640x480 with 1 Axes>"
      ]
     },
     "metadata": {},
     "output_type": "display_data"
    }
   ],
   "source": [
    "sns.boxplot(x=u_df['carpet_area'])"
   ]
  },
  {
   "cell_type": "code",
   "execution_count": 96,
   "id": "c0bf7163-b719-4e9b-b197-131730aa6f41",
   "metadata": {},
   "outputs": [
    {
     "data": {
      "text/html": [
       "<div>\n",
       "<style scoped>\n",
       "    .dataframe tbody tr th:only-of-type {\n",
       "        vertical-align: middle;\n",
       "    }\n",
       "\n",
       "    .dataframe tbody tr th {\n",
       "        vertical-align: top;\n",
       "    }\n",
       "\n",
       "    .dataframe thead th {\n",
       "        text-align: right;\n",
       "    }\n",
       "</style>\n",
       "<table border=\"1\" class=\"dataframe\">\n",
       "  <thead>\n",
       "    <tr style=\"text-align: right;\">\n",
       "      <th></th>\n",
       "      <th>property_type</th>\n",
       "      <th>society</th>\n",
       "      <th>sector</th>\n",
       "      <th>price</th>\n",
       "      <th>price_per_sqft</th>\n",
       "      <th>area</th>\n",
       "      <th>areaWithType</th>\n",
       "      <th>bedRoom</th>\n",
       "      <th>bathroom</th>\n",
       "      <th>balcony</th>\n",
       "      <th>floorNum</th>\n",
       "      <th>facing</th>\n",
       "      <th>agePossession</th>\n",
       "      <th>super_built_up_area</th>\n",
       "      <th>built_up_area</th>\n",
       "      <th>carpet_area</th>\n",
       "      <th>study room</th>\n",
       "      <th>servant room</th>\n",
       "      <th>store room</th>\n",
       "      <th>pooja room</th>\n",
       "      <th>others</th>\n",
       "      <th>furnishing_type</th>\n",
       "      <th>luxury_score</th>\n",
       "    </tr>\n",
       "  </thead>\n",
       "  <tbody>\n",
       "    <tr>\n",
       "      <th>2131</th>\n",
       "      <td>flat</td>\n",
       "      <td>godrej air</td>\n",
       "      <td>sector 85</td>\n",
       "      <td>2.5</td>\n",
       "      <td>1379.0</td>\n",
       "      <td>1812.0</td>\n",
       "      <td>Carpet area: 18122 (1683.59 sq.m.)</td>\n",
       "      <td>4</td>\n",
       "      <td>5</td>\n",
       "      <td>3+</td>\n",
       "      <td>16.0</td>\n",
       "      <td>North-East</td>\n",
       "      <td>Under Construction</td>\n",
       "      <td>NaN</td>\n",
       "      <td>NaN</td>\n",
       "      <td>18122.0</td>\n",
       "      <td>1</td>\n",
       "      <td>0</td>\n",
       "      <td>0</td>\n",
       "      <td>1</td>\n",
       "      <td>1</td>\n",
       "      <td>1</td>\n",
       "      <td>44</td>\n",
       "    </tr>\n",
       "    <tr>\n",
       "      <th>2342</th>\n",
       "      <td>flat</td>\n",
       "      <td>m3m golfestate</td>\n",
       "      <td>sector 65</td>\n",
       "      <td>13.2</td>\n",
       "      <td>12000.0</td>\n",
       "      <td>11000.0</td>\n",
       "      <td>Carpet area: 11000 (1021.93 sq.m.)</td>\n",
       "      <td>4</td>\n",
       "      <td>4</td>\n",
       "      <td>3</td>\n",
       "      <td>13.0</td>\n",
       "      <td>North</td>\n",
       "      <td>Moderately Old</td>\n",
       "      <td>NaN</td>\n",
       "      <td>NaN</td>\n",
       "      <td>11000.0</td>\n",
       "      <td>0</td>\n",
       "      <td>1</td>\n",
       "      <td>0</td>\n",
       "      <td>0</td>\n",
       "      <td>0</td>\n",
       "      <td>0</td>\n",
       "      <td>60</td>\n",
       "    </tr>\n",
       "  </tbody>\n",
       "</table>\n",
       "</div>"
      ],
      "text/plain": [
       "     property_type         society     sector  price  price_per_sqft     area  \\\n",
       "2131          flat      godrej air  sector 85    2.5          1379.0   1812.0   \n",
       "2342          flat  m3m golfestate  sector 65   13.2         12000.0  11000.0   \n",
       "\n",
       "                            areaWithType  bedRoom  bathroom balcony  floorNum  \\\n",
       "2131  Carpet area: 18122 (1683.59 sq.m.)        4         5      3+      16.0   \n",
       "2342  Carpet area: 11000 (1021.93 sq.m.)        4         4       3      13.0   \n",
       "\n",
       "          facing       agePossession  super_built_up_area  built_up_area  \\\n",
       "2131  North-East  Under Construction                  NaN            NaN   \n",
       "2342       North      Moderately Old                  NaN            NaN   \n",
       "\n",
       "      carpet_area  study room  servant room  store room  pooja room  others  \\\n",
       "2131      18122.0           1             0           0           1       1   \n",
       "2342      11000.0           0             1           0           0       0   \n",
       "\n",
       "      furnishing_type  luxury_score  \n",
       "2131                1            44  \n",
       "2342                0            60  "
      ]
     },
     "execution_count": 96,
     "metadata": {},
     "output_type": "execute_result"
    }
   ],
   "source": [
    "u_df[u_df['carpet_area']>10000]"
   ]
  },
  {
   "cell_type": "code",
   "execution_count": 97,
   "id": "3915a6c3-5654-477b-a2c2-46465648d53d",
   "metadata": {},
   "outputs": [],
   "source": [
    "u_df.loc[2131,'carpet_area'] = 1812"
   ]
  },
  {
   "cell_type": "code",
   "execution_count": 98,
   "id": "6e51521e-c862-4540-b09a-84ce4916d1e8",
   "metadata": {},
   "outputs": [
    {
     "data": {
      "text/html": [
       "<div>\n",
       "<style scoped>\n",
       "    .dataframe tbody tr th:only-of-type {\n",
       "        vertical-align: middle;\n",
       "    }\n",
       "\n",
       "    .dataframe tbody tr th {\n",
       "        vertical-align: top;\n",
       "    }\n",
       "\n",
       "    .dataframe thead th {\n",
       "        text-align: right;\n",
       "    }\n",
       "</style>\n",
       "<table border=\"1\" class=\"dataframe\">\n",
       "  <thead>\n",
       "    <tr style=\"text-align: right;\">\n",
       "      <th></th>\n",
       "      <th>property_type</th>\n",
       "      <th>society</th>\n",
       "      <th>sector</th>\n",
       "      <th>price</th>\n",
       "      <th>price_per_sqft</th>\n",
       "      <th>area</th>\n",
       "      <th>areaWithType</th>\n",
       "      <th>bedRoom</th>\n",
       "      <th>bathroom</th>\n",
       "      <th>balcony</th>\n",
       "      <th>floorNum</th>\n",
       "      <th>facing</th>\n",
       "      <th>agePossession</th>\n",
       "      <th>super_built_up_area</th>\n",
       "      <th>built_up_area</th>\n",
       "      <th>carpet_area</th>\n",
       "      <th>study room</th>\n",
       "      <th>servant room</th>\n",
       "      <th>store room</th>\n",
       "      <th>pooja room</th>\n",
       "      <th>others</th>\n",
       "      <th>furnishing_type</th>\n",
       "      <th>luxury_score</th>\n",
       "    </tr>\n",
       "  </thead>\n",
       "  <tbody>\n",
       "    <tr>\n",
       "      <th>2342</th>\n",
       "      <td>flat</td>\n",
       "      <td>m3m golfestate</td>\n",
       "      <td>sector 65</td>\n",
       "      <td>13.2</td>\n",
       "      <td>12000.0</td>\n",
       "      <td>11000.0</td>\n",
       "      <td>Carpet area: 11000 (1021.93 sq.m.)</td>\n",
       "      <td>4</td>\n",
       "      <td>4</td>\n",
       "      <td>3</td>\n",
       "      <td>13.0</td>\n",
       "      <td>North</td>\n",
       "      <td>Moderately Old</td>\n",
       "      <td>NaN</td>\n",
       "      <td>NaN</td>\n",
       "      <td>11000.0</td>\n",
       "      <td>0</td>\n",
       "      <td>1</td>\n",
       "      <td>0</td>\n",
       "      <td>0</td>\n",
       "      <td>0</td>\n",
       "      <td>0</td>\n",
       "      <td>60</td>\n",
       "    </tr>\n",
       "  </tbody>\n",
       "</table>\n",
       "</div>"
      ],
      "text/plain": [
       "     property_type         society     sector  price  price_per_sqft     area  \\\n",
       "2342          flat  m3m golfestate  sector 65   13.2         12000.0  11000.0   \n",
       "\n",
       "                            areaWithType  bedRoom  bathroom balcony  floorNum  \\\n",
       "2342  Carpet area: 11000 (1021.93 sq.m.)        4         4       3      13.0   \n",
       "\n",
       "     facing   agePossession  super_built_up_area  built_up_area  carpet_area  \\\n",
       "2342  North  Moderately Old                  NaN            NaN      11000.0   \n",
       "\n",
       "      study room  servant room  store room  pooja room  others  \\\n",
       "2342           0             1           0           0       0   \n",
       "\n",
       "      furnishing_type  luxury_score  \n",
       "2342                0            60  "
      ]
     },
     "execution_count": 98,
     "metadata": {},
     "output_type": "execute_result"
    }
   ],
   "source": [
    "u_df[u_df['carpet_area']>10000]"
   ]
  },
  {
   "cell_type": "code",
   "execution_count": 99,
   "id": "04162e76-7648-425e-801e-f2fdd438bee0",
   "metadata": {},
   "outputs": [
    {
     "name": "stderr",
     "output_type": "stream",
     "text": [
      "C:\\Users\\debas\\AppData\\Local\\Temp\\ipykernel_7108\\3416758097.py:1: UserWarning: \n",
      "\n",
      "`distplot` is a deprecated function and will be removed in seaborn v0.14.0.\n",
      "\n",
      "Please adapt your code to use either `displot` (a figure-level function with\n",
      "similar flexibility) or `histplot` (an axes-level function for histograms).\n",
      "\n",
      "For a guide to updating your code to use the new functions, please see\n",
      "https://gist.github.com/mwaskom/de44147ed2974457ad6372750bbe5751\n",
      "\n",
      "  sns.distplot(u_df['luxury_score'])\n"
     ]
    },
    {
     "data": {
      "text/plain": [
       "<Axes: xlabel='luxury_score', ylabel='Density'>"
      ]
     },
     "execution_count": 99,
     "metadata": {},
     "output_type": "execute_result"
    },
    {
     "data": {
      "image/png": "[encoded data removed]",
      "text/plain": [
       "<Figure size 640x480 with 1 Axes>"
      ]
     },
     "metadata": {},
     "output_type": "display_data"
    }
   ],
   "source": [
    "sns.distplot(u_df['luxury_score'])"
   ]
  },
  {
   "cell_type": "code",
   "execution_count": 100,
   "id": "d1555a72-a52a-4ed7-8a50-e04e7884c12e",
   "metadata": {},
   "outputs": [
    {
     "data": {
      "text/plain": [
       "<Axes: xlabel='luxury_score'>"
      ]
     },
     "execution_count": 100,
     "metadata": {},
     "output_type": "execute_result"
    },
    {
     "data": {
      "image/png": "[encoded data removed]",
      "text/plain": [
       "<Figure size 640x480 with 1 Axes>"
      ]
     },
     "metadata": {},
     "output_type": "display_data"
    }
   ],
   "source": [
    "sns.boxplot(u_df['luxury_score'],orient='h')"
   ]
  },
  {
   "cell_type": "code",
   "execution_count": 101,
   "id": "557c5ea9-9a42-4059-aa43-d4b036001db3",
   "metadata": {},
   "outputs": [
    {
     "data": {
      "text/plain": [
       "(3588, 23)"
      ]
     },
     "execution_count": 101,
     "metadata": {},
     "output_type": "execute_result"
    }
   ],
   "source": [
    "u_df.shape"
   ]
  },
  {
   "cell_type": "code",
   "execution_count": 102,
   "id": "0822c309-01e1-41a7-8d3d-d97279f47e86",
   "metadata": {},
   "outputs": [],
   "source": [
    "u_df['price_per_sqft'] = round((u_df['price']*10000000)/u_df['area'])"
   ]
  },
  {
   "cell_type": "code",
   "execution_count": 103,
   "id": "74d3018d-5138-4963-8439-228557d087dd",
   "metadata": {},
   "outputs": [
    {
     "data": {
      "text/html": [
       "<div>\n",
       "<style scoped>\n",
       "    .dataframe tbody tr th:only-of-type {\n",
       "        vertical-align: middle;\n",
       "    }\n",
       "\n",
       "    .dataframe tbody tr th {\n",
       "        vertical-align: top;\n",
       "    }\n",
       "\n",
       "    .dataframe thead th {\n",
       "        text-align: right;\n",
       "    }\n",
       "</style>\n",
       "<table border=\"1\" class=\"dataframe\">\n",
       "  <thead>\n",
       "    <tr style=\"text-align: right;\">\n",
       "      <th></th>\n",
       "      <th>property_type</th>\n",
       "      <th>society</th>\n",
       "      <th>sector</th>\n",
       "      <th>price</th>\n",
       "      <th>price_per_sqft</th>\n",
       "      <th>area</th>\n",
       "      <th>areaWithType</th>\n",
       "      <th>bedRoom</th>\n",
       "      <th>bathroom</th>\n",
       "      <th>balcony</th>\n",
       "      <th>floorNum</th>\n",
       "      <th>facing</th>\n",
       "      <th>agePossession</th>\n",
       "      <th>super_built_up_area</th>\n",
       "      <th>built_up_area</th>\n",
       "      <th>carpet_area</th>\n",
       "      <th>study room</th>\n",
       "      <th>servant room</th>\n",
       "      <th>store room</th>\n",
       "      <th>pooja room</th>\n",
       "      <th>others</th>\n",
       "      <th>furnishing_type</th>\n",
       "      <th>luxury_score</th>\n",
       "    </tr>\n",
       "  </thead>\n",
       "  <tbody>\n",
       "    <tr>\n",
       "      <th>0</th>\n",
       "      <td>flat</td>\n",
       "      <td>signature global park 4</td>\n",
       "      <td>sector 36</td>\n",
       "      <td>0.82</td>\n",
       "      <td>7586.0</td>\n",
       "      <td>1081.0</td>\n",
       "      <td>Super Built up area 1081(100.43 sq.m.)Carpet a...</td>\n",
       "      <td>3</td>\n",
       "      <td>2</td>\n",
       "      <td>2</td>\n",
       "      <td>2.0</td>\n",
       "      <td>NaN</td>\n",
       "      <td>New Property</td>\n",
       "      <td>1081.0</td>\n",
       "      <td>NaN</td>\n",
       "      <td>650.0</td>\n",
       "      <td>0</td>\n",
       "      <td>0</td>\n",
       "      <td>0</td>\n",
       "      <td>0</td>\n",
       "      <td>0</td>\n",
       "      <td>0</td>\n",
       "      <td>8</td>\n",
       "    </tr>\n",
       "    <tr>\n",
       "      <th>1</th>\n",
       "      <td>flat</td>\n",
       "      <td>smart world gems</td>\n",
       "      <td>sector 89</td>\n",
       "      <td>0.95</td>\n",
       "      <td>8597.0</td>\n",
       "      <td>1105.0</td>\n",
       "      <td>Carpet area: 1103 (102.47 sq.m.)</td>\n",
       "      <td>2</td>\n",
       "      <td>2</td>\n",
       "      <td>2</td>\n",
       "      <td>4.0</td>\n",
       "      <td>NaN</td>\n",
       "      <td>New Property</td>\n",
       "      <td>NaN</td>\n",
       "      <td>NaN</td>\n",
       "      <td>1103.0</td>\n",
       "      <td>1</td>\n",
       "      <td>1</td>\n",
       "      <td>0</td>\n",
       "      <td>0</td>\n",
       "      <td>0</td>\n",
       "      <td>0</td>\n",
       "      <td>38</td>\n",
       "    </tr>\n",
       "    <tr>\n",
       "      <th>3</th>\n",
       "      <td>flat</td>\n",
       "      <td>breez global hill view</td>\n",
       "      <td>sohna road</td>\n",
       "      <td>0.32</td>\n",
       "      <td>5470.0</td>\n",
       "      <td>585.0</td>\n",
       "      <td>Built Up area: 1000 (92.9 sq.m.)Carpet area: 5...</td>\n",
       "      <td>2</td>\n",
       "      <td>2</td>\n",
       "      <td>1</td>\n",
       "      <td>17.0</td>\n",
       "      <td>NaN</td>\n",
       "      <td>New Property</td>\n",
       "      <td>NaN</td>\n",
       "      <td>1000.0</td>\n",
       "      <td>585.0</td>\n",
       "      <td>0</td>\n",
       "      <td>0</td>\n",
       "      <td>0</td>\n",
       "      <td>0</td>\n",
       "      <td>0</td>\n",
       "      <td>0</td>\n",
       "      <td>49</td>\n",
       "    </tr>\n",
       "    <tr>\n",
       "      <th>4</th>\n",
       "      <td>flat</td>\n",
       "      <td>bestech park view sanskruti</td>\n",
       "      <td>sector 92</td>\n",
       "      <td>1.60</td>\n",
       "      <td>8020.0</td>\n",
       "      <td>1995.0</td>\n",
       "      <td>Super Built up area 1995(185.34 sq.m.)Built Up...</td>\n",
       "      <td>3</td>\n",
       "      <td>4</td>\n",
       "      <td>3+</td>\n",
       "      <td>10.0</td>\n",
       "      <td>North-West</td>\n",
       "      <td>Relatively New</td>\n",
       "      <td>1995.0</td>\n",
       "      <td>1615.0</td>\n",
       "      <td>1476.0</td>\n",
       "      <td>0</td>\n",
       "      <td>1</td>\n",
       "      <td>0</td>\n",
       "      <td>0</td>\n",
       "      <td>1</td>\n",
       "      <td>1</td>\n",
       "      <td>174</td>\n",
       "    </tr>\n",
       "    <tr>\n",
       "      <th>5</th>\n",
       "      <td>flat</td>\n",
       "      <td>suncity avenue</td>\n",
       "      <td>sector 102</td>\n",
       "      <td>0.48</td>\n",
       "      <td>9023.0</td>\n",
       "      <td>532.0</td>\n",
       "      <td>Super Built up area 632(58.71 sq.m.)Carpet are...</td>\n",
       "      <td>2</td>\n",
       "      <td>2</td>\n",
       "      <td>1</td>\n",
       "      <td>5.0</td>\n",
       "      <td>North-East</td>\n",
       "      <td>Relatively New</td>\n",
       "      <td>632.0</td>\n",
       "      <td>NaN</td>\n",
       "      <td>532.0</td>\n",
       "      <td>0</td>\n",
       "      <td>0</td>\n",
       "      <td>1</td>\n",
       "      <td>0</td>\n",
       "      <td>0</td>\n",
       "      <td>0</td>\n",
       "      <td>159</td>\n",
       "    </tr>\n",
       "  </tbody>\n",
       "</table>\n",
       "</div>"
      ],
      "text/plain": [
       "  property_type                      society      sector  price  \\\n",
       "0          flat      signature global park 4   sector 36   0.82   \n",
       "1          flat             smart world gems   sector 89   0.95   \n",
       "3          flat       breez global hill view  sohna road   0.32   \n",
       "4          flat  bestech park view sanskruti   sector 92   1.60   \n",
       "5          flat               suncity avenue  sector 102   0.48   \n",
       "\n",
       "   price_per_sqft    area                                       areaWithType  \\\n",
       "0          7586.0  1081.0  Super Built up area 1081(100.43 sq.m.)Carpet a...   \n",
       "1          8597.0  1105.0                   Carpet area: 1103 (102.47 sq.m.)   \n",
       "3          5470.0   585.0  Built Up area: 1000 (92.9 sq.m.)Carpet area: 5...   \n",
       "4          8020.0  1995.0  Super Built up area 1995(185.34 sq.m.)Built Up...   \n",
       "5          9023.0   532.0  Super Built up area 632(58.71 sq.m.)Carpet are...   \n",
       "\n",
       "   bedRoom  bathroom balcony  floorNum      facing   agePossession  \\\n",
       "0        3         2       2       2.0         NaN    New Property   \n",
       "1        2         2       2       4.0         NaN    New Property   \n",
       "3        2         2       1      17.0         NaN    New Property   \n",
       "4        3         4      3+      10.0  North-West  Relatively New   \n",
       "5        2         2       1       5.0  North-East  Relatively New   \n",
       "\n",
       "   super_built_up_area  built_up_area  carpet_area  study room  servant room  \\\n",
       "0               1081.0            NaN        650.0           0             0   \n",
       "1                  NaN            NaN       1103.0           1             1   \n",
       "3                  NaN         1000.0        585.0           0             0   \n",
       "4               1995.0         1615.0       1476.0           0             1   \n",
       "5                632.0            NaN        532.0           0             0   \n",
       "\n",
       "   store room  pooja room  others  furnishing_type  luxury_score  \n",
       "0           0           0       0                0             8  \n",
       "1           0           0       0                0            38  \n",
       "3           0           0       0                0            49  \n",
       "4           0           0       1                1           174  \n",
       "5           1           0       0                0           159  "
      ]
     },
     "execution_count": 103,
     "metadata": {},
     "output_type": "execute_result"
    }
   ],
   "source": [
    "u_df.head()"
   ]
  },
  {
   "cell_type": "code",
   "execution_count": 104,
   "id": "81a69c86-2bd8-4d64-9802-76b615a5d240",
   "metadata": {},
   "outputs": [
    {
     "name": "stderr",
     "output_type": "stream",
     "text": [
      "C:\\Users\\debas\\AppData\\Local\\Temp\\ipykernel_7108\\3984159812.py:1: UserWarning: \n",
      "\n",
      "`distplot` is a deprecated function and will be removed in seaborn v0.14.0.\n",
      "\n",
      "Please adapt your code to use either `displot` (a figure-level function with\n",
      "similar flexibility) or `histplot` (an axes-level function for histograms).\n",
      "\n",
      "For a guide to updating your code to use the new functions, please see\n",
      "https://gist.github.com/mwaskom/de44147ed2974457ad6372750bbe5751\n",
      "\n",
      "  sns.distplot(u_df['price_per_sqft'])\n"
     ]
    },
    {
     "data": {
      "text/plain": [
       "<Axes: xlabel='price_per_sqft', ylabel='Density'>"
      ]
     },
     "execution_count": 104,
     "metadata": {},
     "output_type": "execute_result"
    },
    {
     "data": {
      "image/png": "[encoded data removed]",
      "text/plain": [
       "<Figure size 640x480 with 1 Axes>"
      ]
     },
     "metadata": {},
     "output_type": "display_data"
    }
   ],
   "source": [
    "sns.distplot(u_df['price_per_sqft'])"
   ]
  },
  {
   "cell_type": "code",
   "execution_count": 105,
   "id": "3d75c79c-c55f-4255-9b8d-8fc16d838a60",
   "metadata": {},
   "outputs": [
    {
     "data": {
      "text/plain": [
       "<Axes: ylabel='price_per_sqft'>"
      ]
     },
     "execution_count": 105,
     "metadata": {},
     "output_type": "execute_result"
    },
    {
     "data": {
      "image/png": "[encoded data removed]",
      "text/plain": [
       "<Figure size 640x480 with 1 Axes>"
      ]
     },
     "metadata": {},
     "output_type": "display_data"
    }
   ],
   "source": [
    "sns.boxplot(u_df['price_per_sqft'])"
   ]
  },
  {
   "cell_type": "code",
   "execution_count": 106,
   "id": "58f3dbda-625f-46b3-a354-fc60bfd3a1f1",
   "metadata": {},
   "outputs": [
    {
     "data": {
      "text/plain": [
       "np.float64(198.0)"
      ]
     },
     "execution_count": 106,
     "metadata": {},
     "output_type": "execute_result"
    }
   ],
   "source": [
    "x = u_df[u_df['price_per_sqft'] <= 20000]\n",
    "(x['area']/x['bedRoom']).quantile(0.02)"
   ]
  },
  {
   "cell_type": "code",
   "execution_count": 107,
   "id": "9c41aa54-1bfd-4c3f-8c67-02ea3d83405d",
   "metadata": {},
   "outputs": [
    {
     "data": {
      "text/html": [
       "<div>\n",
       "<style scoped>\n",
       "    .dataframe tbody tr th:only-of-type {\n",
       "        vertical-align: middle;\n",
       "    }\n",
       "\n",
       "    .dataframe tbody tr th {\n",
       "        vertical-align: top;\n",
       "    }\n",
       "\n",
       "    .dataframe thead th {\n",
       "        text-align: right;\n",
       "    }\n",
       "</style>\n",
       "<table border=\"1\" class=\"dataframe\">\n",
       "  <thead>\n",
       "    <tr style=\"text-align: right;\">\n",
       "      <th></th>\n",
       "      <th>property_type</th>\n",
       "      <th>society</th>\n",
       "      <th>sector</th>\n",
       "      <th>price</th>\n",
       "      <th>price_per_sqft</th>\n",
       "      <th>area</th>\n",
       "      <th>areaWithType</th>\n",
       "      <th>bedRoom</th>\n",
       "      <th>bathroom</th>\n",
       "      <th>balcony</th>\n",
       "      <th>floorNum</th>\n",
       "      <th>facing</th>\n",
       "      <th>agePossession</th>\n",
       "      <th>super_built_up_area</th>\n",
       "      <th>built_up_area</th>\n",
       "      <th>carpet_area</th>\n",
       "      <th>study room</th>\n",
       "      <th>servant room</th>\n",
       "      <th>store room</th>\n",
       "      <th>pooja room</th>\n",
       "      <th>others</th>\n",
       "      <th>furnishing_type</th>\n",
       "      <th>luxury_score</th>\n",
       "    </tr>\n",
       "  </thead>\n",
       "  <tbody>\n",
       "    <tr>\n",
       "      <th>9</th>\n",
       "      <td>house</td>\n",
       "      <td>independent</td>\n",
       "      <td>sector 105</td>\n",
       "      <td>1.20</td>\n",
       "      <td>10118.0</td>\n",
       "      <td>1186.0</td>\n",
       "      <td>Plot area 1185.51(110.14 sq.m.)</td>\n",
       "      <td>6</td>\n",
       "      <td>2</td>\n",
       "      <td>1</td>\n",
       "      <td>2.0</td>\n",
       "      <td>North-West</td>\n",
       "      <td>Old Property</td>\n",
       "      <td>NaN</td>\n",
       "      <td>1185.51</td>\n",
       "      <td>NaN</td>\n",
       "      <td>0</td>\n",
       "      <td>0</td>\n",
       "      <td>0</td>\n",
       "      <td>0</td>\n",
       "      <td>0</td>\n",
       "      <td>0</td>\n",
       "      <td>9</td>\n",
       "    </tr>\n",
       "    <tr>\n",
       "      <th>37</th>\n",
       "      <td>house</td>\n",
       "      <td>independent</td>\n",
       "      <td>sector 104</td>\n",
       "      <td>0.45</td>\n",
       "      <td>12162.0</td>\n",
       "      <td>370.0</td>\n",
       "      <td>Plot area 370(34.37 sq.m.)Carpet area: 1500 sq...</td>\n",
       "      <td>4</td>\n",
       "      <td>4</td>\n",
       "      <td>2</td>\n",
       "      <td>4.0</td>\n",
       "      <td>North</td>\n",
       "      <td>Moderately Old</td>\n",
       "      <td>NaN</td>\n",
       "      <td>NaN</td>\n",
       "      <td>1500.0</td>\n",
       "      <td>0</td>\n",
       "      <td>0</td>\n",
       "      <td>0</td>\n",
       "      <td>0</td>\n",
       "      <td>0</td>\n",
       "      <td>1</td>\n",
       "      <td>7</td>\n",
       "    </tr>\n",
       "    <tr>\n",
       "      <th>48</th>\n",
       "      <td>house</td>\n",
       "      <td>ganpati heights apartment</td>\n",
       "      <td>sector 13</td>\n",
       "      <td>1.25</td>\n",
       "      <td>12077.0</td>\n",
       "      <td>1035.0</td>\n",
       "      <td>Plot area 115(7692.86 sq.m.)</td>\n",
       "      <td>10</td>\n",
       "      <td>6</td>\n",
       "      <td>2</td>\n",
       "      <td>3.0</td>\n",
       "      <td>South-East</td>\n",
       "      <td>Old Property</td>\n",
       "      <td>NaN</td>\n",
       "      <td>115.00</td>\n",
       "      <td>NaN</td>\n",
       "      <td>0</td>\n",
       "      <td>0</td>\n",
       "      <td>0</td>\n",
       "      <td>0</td>\n",
       "      <td>1</td>\n",
       "      <td>0</td>\n",
       "      <td>7</td>\n",
       "    </tr>\n",
       "    <tr>\n",
       "      <th>93</th>\n",
       "      <td>house</td>\n",
       "      <td>independent</td>\n",
       "      <td>sector 105</td>\n",
       "      <td>1.10</td>\n",
       "      <td>12222.0</td>\n",
       "      <td>900.0</td>\n",
       "      <td>Carpet area: 900 (83.61 sq.m.)</td>\n",
       "      <td>6</td>\n",
       "      <td>4</td>\n",
       "      <td>1</td>\n",
       "      <td>1.0</td>\n",
       "      <td>South-West</td>\n",
       "      <td>Undefined</td>\n",
       "      <td>NaN</td>\n",
       "      <td>NaN</td>\n",
       "      <td>900.0</td>\n",
       "      <td>0</td>\n",
       "      <td>0</td>\n",
       "      <td>0</td>\n",
       "      <td>0</td>\n",
       "      <td>0</td>\n",
       "      <td>0</td>\n",
       "      <td>0</td>\n",
       "    </tr>\n",
       "    <tr>\n",
       "      <th>99</th>\n",
       "      <td>house</td>\n",
       "      <td>independent</td>\n",
       "      <td>sector 4</td>\n",
       "      <td>1.10</td>\n",
       "      <td>11111.0</td>\n",
       "      <td>990.0</td>\n",
       "      <td>Built Up area: 990 (91.97 sq.m.)</td>\n",
       "      <td>6</td>\n",
       "      <td>4</td>\n",
       "      <td>1</td>\n",
       "      <td>2.0</td>\n",
       "      <td>North</td>\n",
       "      <td>Undefined</td>\n",
       "      <td>NaN</td>\n",
       "      <td>990.00</td>\n",
       "      <td>NaN</td>\n",
       "      <td>0</td>\n",
       "      <td>0</td>\n",
       "      <td>0</td>\n",
       "      <td>0</td>\n",
       "      <td>0</td>\n",
       "      <td>0</td>\n",
       "      <td>0</td>\n",
       "    </tr>\n",
       "    <tr>\n",
       "      <th>...</th>\n",
       "      <td>...</td>\n",
       "      <td>...</td>\n",
       "      <td>...</td>\n",
       "      <td>...</td>\n",
       "      <td>...</td>\n",
       "      <td>...</td>\n",
       "      <td>...</td>\n",
       "      <td>...</td>\n",
       "      <td>...</td>\n",
       "      <td>...</td>\n",
       "      <td>...</td>\n",
       "      <td>...</td>\n",
       "      <td>...</td>\n",
       "      <td>...</td>\n",
       "      <td>...</td>\n",
       "      <td>...</td>\n",
       "      <td>...</td>\n",
       "      <td>...</td>\n",
       "      <td>...</td>\n",
       "      <td>...</td>\n",
       "      <td>...</td>\n",
       "      <td>...</td>\n",
       "      <td>...</td>\n",
       "    </tr>\n",
       "    <tr>\n",
       "      <th>3633</th>\n",
       "      <td>house</td>\n",
       "      <td>independent</td>\n",
       "      <td>sector 17</td>\n",
       "      <td>0.32</td>\n",
       "      <td>5664.0</td>\n",
       "      <td>565.0</td>\n",
       "      <td>Built Up area: 565 (52.49 sq.m.)</td>\n",
       "      <td>5</td>\n",
       "      <td>1</td>\n",
       "      <td>0</td>\n",
       "      <td>1.0</td>\n",
       "      <td>NaN</td>\n",
       "      <td>Undefined</td>\n",
       "      <td>NaN</td>\n",
       "      <td>565.00</td>\n",
       "      <td>NaN</td>\n",
       "      <td>0</td>\n",
       "      <td>0</td>\n",
       "      <td>0</td>\n",
       "      <td>0</td>\n",
       "      <td>0</td>\n",
       "      <td>0</td>\n",
       "      <td>0</td>\n",
       "    </tr>\n",
       "    <tr>\n",
       "      <th>3686</th>\n",
       "      <td>house</td>\n",
       "      <td>independent</td>\n",
       "      <td>sector 12</td>\n",
       "      <td>0.90</td>\n",
       "      <td>13333.0</td>\n",
       "      <td>675.0</td>\n",
       "      <td>Built Up area: 675 (62.71 sq.m.)</td>\n",
       "      <td>4</td>\n",
       "      <td>4</td>\n",
       "      <td>0</td>\n",
       "      <td>2.0</td>\n",
       "      <td>NaN</td>\n",
       "      <td>Undefined</td>\n",
       "      <td>NaN</td>\n",
       "      <td>675.00</td>\n",
       "      <td>NaN</td>\n",
       "      <td>0</td>\n",
       "      <td>0</td>\n",
       "      <td>0</td>\n",
       "      <td>0</td>\n",
       "      <td>0</td>\n",
       "      <td>0</td>\n",
       "      <td>0</td>\n",
       "    </tr>\n",
       "    <tr>\n",
       "      <th>3713</th>\n",
       "      <td>house</td>\n",
       "      <td>independent</td>\n",
       "      <td>sector 41</td>\n",
       "      <td>4.25</td>\n",
       "      <td>26235.0</td>\n",
       "      <td>1620.0</td>\n",
       "      <td>Plot area 180(150.5 sq.m.)</td>\n",
       "      <td>10</td>\n",
       "      <td>9</td>\n",
       "      <td>3+</td>\n",
       "      <td>4.0</td>\n",
       "      <td>North</td>\n",
       "      <td>Moderately Old</td>\n",
       "      <td>NaN</td>\n",
       "      <td>1620.00</td>\n",
       "      <td>NaN</td>\n",
       "      <td>1</td>\n",
       "      <td>1</td>\n",
       "      <td>0</td>\n",
       "      <td>0</td>\n",
       "      <td>0</td>\n",
       "      <td>1</td>\n",
       "      <td>36</td>\n",
       "    </tr>\n",
       "    <tr>\n",
       "      <th>3751</th>\n",
       "      <td>house</td>\n",
       "      <td>independent</td>\n",
       "      <td>sector 21</td>\n",
       "      <td>0.45</td>\n",
       "      <td>8411.0</td>\n",
       "      <td>535.0</td>\n",
       "      <td>Carpet area: 535 (49.7 sq.m.)</td>\n",
       "      <td>3</td>\n",
       "      <td>2</td>\n",
       "      <td>1</td>\n",
       "      <td>1.0</td>\n",
       "      <td>NaN</td>\n",
       "      <td>Undefined</td>\n",
       "      <td>NaN</td>\n",
       "      <td>NaN</td>\n",
       "      <td>535.0</td>\n",
       "      <td>0</td>\n",
       "      <td>0</td>\n",
       "      <td>0</td>\n",
       "      <td>0</td>\n",
       "      <td>0</td>\n",
       "      <td>0</td>\n",
       "      <td>0</td>\n",
       "    </tr>\n",
       "    <tr>\n",
       "      <th>3797</th>\n",
       "      <td>house</td>\n",
       "      <td>surendra homes dayaindependentd colony</td>\n",
       "      <td>sector 6</td>\n",
       "      <td>0.75</td>\n",
       "      <td>15625.0</td>\n",
       "      <td>480.0</td>\n",
       "      <td>Built Up area: 480 (44.59 sq.m.)</td>\n",
       "      <td>4</td>\n",
       "      <td>4</td>\n",
       "      <td>2</td>\n",
       "      <td>1.0</td>\n",
       "      <td>NaN</td>\n",
       "      <td>Undefined</td>\n",
       "      <td>NaN</td>\n",
       "      <td>480.00</td>\n",
       "      <td>NaN</td>\n",
       "      <td>0</td>\n",
       "      <td>0</td>\n",
       "      <td>0</td>\n",
       "      <td>0</td>\n",
       "      <td>0</td>\n",
       "      <td>0</td>\n",
       "      <td>0</td>\n",
       "    </tr>\n",
       "  </tbody>\n",
       "</table>\n",
       "<p>77 rows × 23 columns</p>\n",
       "</div>"
      ],
      "text/plain": [
       "     property_type                                 society      sector  price  \\\n",
       "9            house                             independent  sector 105   1.20   \n",
       "37           house                             independent  sector 104   0.45   \n",
       "48           house               ganpati heights apartment   sector 13   1.25   \n",
       "93           house                             independent  sector 105   1.10   \n",
       "99           house                             independent    sector 4   1.10   \n",
       "...            ...                                     ...         ...    ...   \n",
       "3633         house                             independent   sector 17   0.32   \n",
       "3686         house                             independent   sector 12   0.90   \n",
       "3713         house                             independent   sector 41   4.25   \n",
       "3751         house                             independent   sector 21   0.45   \n",
       "3797         house  surendra homes dayaindependentd colony    sector 6   0.75   \n",
       "\n",
       "      price_per_sqft    area  \\\n",
       "9            10118.0  1186.0   \n",
       "37           12162.0   370.0   \n",
       "48           12077.0  1035.0   \n",
       "93           12222.0   900.0   \n",
       "99           11111.0   990.0   \n",
       "...              ...     ...   \n",
       "3633          5664.0   565.0   \n",
       "3686         13333.0   675.0   \n",
       "3713         26235.0  1620.0   \n",
       "3751          8411.0   535.0   \n",
       "3797         15625.0   480.0   \n",
       "\n",
       "                                           areaWithType  bedRoom  bathroom  \\\n",
       "9                       Plot area 1185.51(110.14 sq.m.)        6         2   \n",
       "37    Plot area 370(34.37 sq.m.)Carpet area: 1500 sq...        4         4   \n",
       "48                         Plot area 115(7692.86 sq.m.)       10         6   \n",
       "93                       Carpet area: 900 (83.61 sq.m.)        6         4   \n",
       "99                     Built Up area: 990 (91.97 sq.m.)        6         4   \n",
       "...                                                 ...      ...       ...   \n",
       "3633                   Built Up area: 565 (52.49 sq.m.)        5         1   \n",
       "3686                   Built Up area: 675 (62.71 sq.m.)        4         4   \n",
       "3713                         Plot area 180(150.5 sq.m.)       10         9   \n",
       "3751                      Carpet area: 535 (49.7 sq.m.)        3         2   \n",
       "3797                   Built Up area: 480 (44.59 sq.m.)        4         4   \n",
       "\n",
       "     balcony  floorNum      facing   agePossession  super_built_up_area  \\\n",
       "9          1       2.0  North-West    Old Property                  NaN   \n",
       "37         2       4.0       North  Moderately Old                  NaN   \n",
       "48         2       3.0  South-East    Old Property                  NaN   \n",
       "93         1       1.0  South-West       Undefined                  NaN   \n",
       "99         1       2.0       North       Undefined                  NaN   \n",
       "...      ...       ...         ...             ...                  ...   \n",
       "3633       0       1.0         NaN       Undefined                  NaN   \n",
       "3686       0       2.0         NaN       Undefined                  NaN   \n",
       "3713      3+       4.0       North  Moderately Old                  NaN   \n",
       "3751       1       1.0         NaN       Undefined                  NaN   \n",
       "3797       2       1.0         NaN       Undefined                  NaN   \n",
       "\n",
       "      built_up_area  carpet_area  study room  servant room  store room  \\\n",
       "9           1185.51          NaN           0             0           0   \n",
       "37              NaN       1500.0           0             0           0   \n",
       "48           115.00          NaN           0             0           0   \n",
       "93              NaN        900.0           0             0           0   \n",
       "99           990.00          NaN           0             0           0   \n",
       "...             ...          ...         ...           ...         ...   \n",
       "3633         565.00          NaN           0             0           0   \n",
       "3686         675.00          NaN           0             0           0   \n",
       "3713        1620.00          NaN           1             1           0   \n",
       "3751            NaN        535.0           0             0           0   \n",
       "3797         480.00          NaN           0             0           0   \n",
       "\n",
       "      pooja room  others  furnishing_type  luxury_score  \n",
       "9              0       0                0             9  \n",
       "37             0       0                1             7  \n",
       "48             0       1                0             7  \n",
       "93             0       0                0             0  \n",
       "99             0       0                0             0  \n",
       "...          ...     ...              ...           ...  \n",
       "3633           0       0                0             0  \n",
       "3686           0       0                0             0  \n",
       "3713           0       0                1            36  \n",
       "3751           0       0                0             0  \n",
       "3797           0       0                0             0  \n",
       "\n",
       "[77 rows x 23 columns]"
      ]
     },
     "execution_count": 107,
     "metadata": {},
     "output_type": "execute_result"
    }
   ],
   "source": [
    "u_df[(u_df['area']/u_df['bedRoom'])<198]"
   ]
  },
  {
   "cell_type": "code",
   "execution_count": null,
   "id": "585fb6e8-30aa-4c66-a43d-5e2982083a4b",
   "metadata": {},
   "outputs": [],
   "source": []
  },
  {
   "cell_type": "code",
   "execution_count": null,
   "id": "ce0ee2e8-83b7-4573-a6d0-ca716fc4f3b4",
   "metadata": {},
   "outputs": [],
   "source": []
  }
 ],
 "metadata": {
  "kernelspec": {
   "display_name": "Python 3 (ipykernel)",
   "language": "python",
   "name": "python3"
  },
  "language_info": {
   "codemirror_mode": {
    "name": "ipython",
    "version": 3
   },
   "file_extension": ".py",
   "mimetype": "text/x-python",
   "name": "python",
   "nbconvert_exporter": "python",
   "pygments_lexer": "ipython3",
   "version": "3.11.2"
  }
 },
 "nbformat": 4,
 "nbformat_minor": 5
}
