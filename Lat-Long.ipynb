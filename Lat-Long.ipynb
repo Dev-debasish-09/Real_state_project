{
 "cells": [
  {
   "cell_type": "code",
   "execution_count": 1,
   "id": "819a76ba-c383-4b2f-ac6d-079deeddcc19",
   "metadata": {},
   "outputs": [],
   "source": [
    "import requests\n",
    "from bs4 import BeautifulSoup\n",
    "import pandas as pd"
   ]
  },
  {
   "cell_type": "code",
   "execution_count": 2,
   "id": "3cac192f-27d9-4b52-a1d5-8ec6d1fa0ddc",
   "metadata": {},
   "outputs": [],
   "source": [
    "def get_coordinates(sector):\n",
    "    search_term = f\"sector {sector} gurgaon longitude & latitude\"\n",
    "    response = requests.get(BASE_URL + search_term, headers=HEADERS)\n",
    "\n",
    "    if response.status_code == 200:\n",
    "        soup = BeautifulSoup(response.content, 'html.parser')\n",
    "        coordinates_div = soup.find(\"div\", class_=\"Z0LcW t2b5Cf\")\n",
    "        if coordinates_div:\n",
    "            return coordinates_div.text\n",
    "    return None"
   ]
  },
  {
   "cell_type": "code",
   "execution_count": 5,
   "id": "bab34cdf-1a4b-4769-8e79-a1dea938133c",
   "metadata": {},
   "outputs": [],
   "source": [
    "# Base URL for Google Search\n",
    "BASE_URL = \"https://www.google.com/search?q=\"\n",
    "\n",
    "# Headers to simulate a real browser visit\n",
    "HEADERS = {\n",
    "    \"User-Agent\": \"Mozilla/5.0 (Windows NT 10.0; Win64; x64) AppleWebKit/537.36 (KHTML, like Gecko) Chrome/91.0.4472.124 Safari/537.36\"\n",
    "}\n",
    "\n",
    "# Create a DataFrame\n",
    "df = pd.DataFrame(columns=[\"Sector\", \"Coordinates\"])\n",
    "\n",
    "# Iterate over sectors and fetch coordinates\n",
    "for sector in range(1, 116):\n",
    "    coordinates = get_coordinates(sector)\n",
    "    temp_df = pd.DataFrame({\"Sector\": [f\"Sector {sector}\"], \"Coordinates\": [coordinates]})\n",
    "    df = pd.concat([df,temp_df],ignore_index = True)\n",
    "\n",
    "# Save DataFrame\n",
    "df.to_csv(\"coordinates.csv\", index=False)"
   ]
  },
  {
   "cell_type": "code",
   "execution_count": 6,
   "id": "210ac66f-a2b6-4dce-9fb2-a45db62c22bb",
   "metadata": {},
   "outputs": [],
   "source": [
    "co_data = pd.read_csv(\"coordinates.csv\")"
   ]
  }
 ],
 "metadata": {
  "kernelspec": {
   "display_name": "Python 3 (ipykernel)",
   "language": "python",
   "name": "python3"
  },
  "language_info": {
   "codemirror_mode": {
    "name": "ipython",
    "version": 3
   },
   "file_extension": ".py",
   "mimetype": "text/x-python",
   "name": "python",
   "nbconvert_exporter": "python",
   "pygments_lexer": "ipython3",
   "version": "3.11.2"
  }
 },
 "nbformat": 4,
 "nbformat_minor": 5
}
